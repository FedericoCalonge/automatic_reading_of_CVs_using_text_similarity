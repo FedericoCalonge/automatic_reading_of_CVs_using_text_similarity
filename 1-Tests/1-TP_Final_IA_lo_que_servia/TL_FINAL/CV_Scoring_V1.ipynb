{
 "cells": [
  {
   "cell_type": "markdown",
   "metadata": {},
   "source": [
    "# Score de CVs/Resumes Versión 1.\n",
    "\n",
    "-Original: https://github.com/meghnalohani/Resume-Scoring-using-NLP\n",
    "\n",
    "-¿Qué hace?: Machea cada skill en el cv del candidato con una keyword particular (machine learning, programming, etc.) basandonos en la distancia semantica entre las palabras (utilizando Word Embeddings). Le asignamos un score para cada keyword y los ploteamos para cada candidato. "
   ]
  },
  {
   "cell_type": "markdown",
   "metadata": {},
   "source": [
    "**Workflow**:\n",
    "1. Creamos el 'CORPUS' mediante Sketch Engine.\n",
    "2. Preprocesamiento.\n",
    "3. Removemos las palabras comunes que no son requeridas. \n",
    "4. Creamos frases de 'Bigrams' (2 palabras que frecuentemente ocurren juntas).\n",
    "5. Creamos 'word embedding' mediante nuestro modelo 'word2vec' mediante la libreria Genism\n",
    "6. Extraemos los CVs/Resumes usando PyPDF y los convertimos en string.\n",
    "7. Contruimos el perfil del candidato (candidate profile) usando 'model.most_similar(skills)' (donde 'skills' es un array de los skills requeridos). Y luego creamos un  'Matcher' usando Spacy para machear las palabras en el CV con 'most_similar(skills)'. \n",
    "8. Contamos las palabras para cada categoria e imprimimos nuestro 'candidate profile'.\n",
    "9. Visualizamos el candidate profile con matplotlib."
   ]
  },
  {
   "cell_type": "code",
   "execution_count": 1,
   "metadata": {},
   "outputs": [],
   "source": [
    "#Importamos las librerias necesarias\n",
    "\n",
    "#Para las etapas 1-6:\n",
    "from gensim.models import Word2Vec\n",
    "import string\n",
    "import re\n",
    "from nltk.corpus import stopwords\n",
    "from nltk.tokenize import word_tokenize\n",
    "import gensim\n",
    "from gensim.models.phrases import Phraser, Phrases\n",
    "\n",
    "#Para las etapas 7-9:\n",
    "import PyPDF2\n",
    "import os\n",
    "import collections\n",
    "from os import listdir\n",
    "from os.path import isfile, join\n",
    "from io import StringIO\n",
    "import pandas as pd\n",
    "from collections import Counter\n",
    "import spacy\n",
    "from spacy.matcher import PhraseMatcher\n",
    "\n",
    "#Para etapa 10:\n",
    "import matplotlib.pyplot as plt\n",
    "%matplotlib inline"
   ]
  },
  {
   "cell_type": "markdown",
   "metadata": {},
   "source": [
    "###  1-Creamos el 'CORPUS' mediante Sketch Engine."
   ]
  },
  {
   "cell_type": "markdown",
   "metadata": {},
   "source": [
    "Sketch Engine es una herramienta online (https://app.sketchengine.eu/) que analiza cómo funciona el lenguaje. \n",
    "Sus algoritmos analizan billones de palabras de textos para identificar qué palabras son típicas o inusuales para un lenguaje. \n",
    "\n",
    "Nosotros lo utilizamos para crear el CORPUS que tenga las palabras que requerimos para entrenar luego a nuestro algoritmo con este texto.  Le dimos como entrada páginas de Wikipedia con información util de distintas temáticas tales como: \n",
    "\n",
    "* https://en.wikipedia.org/wiki/Machine_learning\n",
    "* https://en.wikipedia.org/wiki/Deep_learning\n",
    "* https://en.wikipedia.org/wiki/Data_science\n",
    "* https://en.wikipedia.org/wiki/Programmer\n",
    "* https://en.wikipedia.org/wiki/Software_engineer\n",
    "* https://en.wikipedia.org/wiki/Software_development\n",
    "\n",
    "De esta manera se obtuvo el 'skills.txt' que usamos abajo."
   ]
  },
  {
   "cell_type": "markdown",
   "metadata": {},
   "source": [
    "### 2-Preprocesamiento."
   ]
  },
  {
   "cell_type": "code",
   "execution_count": 2,
   "metadata": {},
   "outputs": [],
   "source": [
    "#Leemos skills.txt (todo el corpus de texto sacado de los articulos de wikipedia):\n",
    "with open('Txts/skills.txt',encoding=\"utf8\") as f:      #En windows es con \\, y en Linux con /.\n",
    "                                                        #Si pusiera ruta absoluta: with open(r'C:\\Users\\calon\\Desktop\\Repo\\skills.txt',encoding=\"utf8\")\n",
    "    content = f.readlines()\n",
    "    \n",
    "# Cuando hayan caracter 'whitespace' como `\\n` al final de cada linea spliteamos:\n",
    "content = [x.strip() for x in content]"
   ]
  },
  {
   "cell_type": "code",
   "execution_count": 3,
   "metadata": {},
   "outputs": [
    {
     "data": {
      "text/plain": [
       "316"
      ]
     },
     "execution_count": 3,
     "metadata": {},
     "output_type": "execute_result"
    }
   ],
   "source": [
    "len(content)"
   ]
  },
  {
   "cell_type": "code",
   "execution_count": 4,
   "metadata": {},
   "outputs": [
    {
     "data": {
      "text/plain": [
       "'Data science is a multi-disciplinary field that uses scientific methods, processes, algorithms and systems to extract knowledge and insights from structured and unstructured data. Data science is the same concept as data mining and big data: \"use the most powerful hardware, the most powerful programming systems, and the most efficient algorithms to solve problems\".'"
      ]
     },
     "execution_count": 4,
     "metadata": {},
     "output_type": "execute_result"
    }
   ],
   "source": [
    "content[0]"
   ]
  },
  {
   "cell_type": "code",
   "execution_count": 5,
   "metadata": {},
   "outputs": [
    {
     "data": {
      "text/plain": [
       "'In deep learning, each level learns to transform its input data into a slightly more abstract and composite representation. In an image recognition application, the raw input may be a matrix of pixels; the first representational layer may abstract the pixels and encode edges; the second layer may compose and encode arrangements of edges; the third layer may encode a nose and eyes; and the fourth layer may recognize that the image contains a face. Importantly, a deep learning process can learn which features to optimally place in which level on its own. (Of course, this does not completely obviate the need for hand-tuning; for example, varying numbers of layers and layer sizes can provide different degrees of abstraction.)'"
      ]
     },
     "execution_count": 5,
     "metadata": {},
     "output_type": "execute_result"
    }
   ],
   "source": [
    "content[28]"
   ]
  },
  {
   "cell_type": "markdown",
   "metadata": {},
   "source": [
    "##### Tokenizamos y sacamos las stop words:"
   ]
  },
  {
   "cell_type": "code",
   "execution_count": 6,
   "metadata": {},
   "outputs": [
    {
     "name": "stderr",
     "output_type": "stream",
     "text": [
      "[nltk_data] Downloading package punkt to /home/fedricio/nltk_data...\n",
      "[nltk_data]   Package punkt is already up-to-date!\n",
      "[nltk_data] Downloading package stopwords to\n",
      "[nltk_data]     /home/fedricio/nltk_data...\n",
      "[nltk_data]   Package stopwords is already up-to-date!\n"
     ]
    }
   ],
   "source": [
    "#Es necesario descargar estos:\n",
    "import nltk\n",
    "nltk.download('punkt')\n",
    "nltk.download('stopwords')\n",
    "#Lo de arriba se descarga LOCALMENTE en home/user/nltk_data.\n",
    "\n",
    "texts=[]\n",
    "for line in content:\n",
    "    tokens=word_tokenize(line)\n",
    "    tok=[w.lower() for w in tokens]\n",
    "    table=str.maketrans('','',string.punctuation)\n",
    "    strpp=[w.translate(table) for w in tok]\n",
    "    words=[word for word in strpp if word.isalpha()]\n",
    "    stop_words=set(stopwords.words('english'))\n",
    "    words=[w for w in words if not w in stop_words]\n",
    "    texts.append(words)"
   ]
  },
  {
   "cell_type": "code",
   "execution_count": 7,
   "metadata": {},
   "outputs": [
    {
     "data": {
      "text/plain": [
       "316"
      ]
     },
     "execution_count": 7,
     "metadata": {},
     "output_type": "execute_result"
    }
   ],
   "source": [
    "len(texts)  #Son 316 listas, cada una con distintas palabras. Cada lista es un renglón de texto. "
   ]
  },
  {
   "cell_type": "code",
   "execution_count": 8,
   "metadata": {},
   "outputs": [
    {
     "name": "stdout",
     "output_type": "stream",
     "text": [
      "['data', 'science', 'multidisciplinary', 'field', 'uses', 'scientific', 'methods', 'processes', 'algorithms', 'systems', 'extract', 'knowledge', 'insights', 'structured', 'unstructured', 'data', 'data', 'science', 'concept', 'data', 'mining', 'big', 'data', 'use', 'powerful', 'hardware', 'powerful', 'programming', 'systems', 'efficient', 'algorithms', 'solve', 'problems']\n"
     ]
    }
   ],
   "source": [
    "print(texts[0])"
   ]
  },
  {
   "cell_type": "code",
   "execution_count": 9,
   "metadata": {},
   "outputs": [
    {
     "name": "stdout",
     "output_type": "stream",
     "text": [
      "['deep', 'learning', 'level', 'learns', 'transform', 'input', 'data', 'slightly', 'abstract', 'composite', 'representation', 'image', 'recognition', 'application', 'raw', 'input', 'may', 'matrix', 'pixels', 'first', 'representational', 'layer', 'may', 'abstract', 'pixels', 'encode', 'edges', 'second', 'layer', 'may', 'compose', 'encode', 'arrangements', 'edges', 'third', 'layer', 'may', 'encode', 'nose', 'eyes', 'fourth', 'layer', 'may', 'recognize', 'image', 'contains', 'face', 'importantly', 'deep', 'learning', 'process', 'learn', 'features', 'optimally', 'place', 'level', 'course', 'completely', 'obviate', 'need', 'handtuning', 'example', 'varying', 'numbers', 'layers', 'layer', 'sizes', 'provide', 'different', 'degrees', 'abstraction']\n"
     ]
    }
   ],
   "source": [
    "print(texts[28])"
   ]
  },
  {
   "cell_type": "markdown",
   "metadata": {},
   "source": [
    "### 3-Removemos las palabras comunes que no son requeridas."
   ]
  },
  {
   "cell_type": "code",
   "execution_count": 10,
   "metadata": {},
   "outputs": [
    {
     "name": "stdout",
     "output_type": "stream",
     "text": [
      "['deep', 'learning', 'level', 'learns', 'transform', 'input', 'data', 'slightly', 'abstract', 'composite', 'representation', 'image', 'recognition', 'application', 'raw', 'input', 'matrix', 'pixels', 'first', 'representational', 'layer', 'abstract', 'pixels', 'encode', 'edges', 'second', 'layer', 'compose', 'encode', 'arrangements', 'edges', 'third', 'layer', 'encode', 'nose', 'eyes', 'fourth', 'layer', 'recognize', 'image', 'contains', 'face', 'importantly', 'deep', 'learning', 'process', 'learn', 'features', 'optimally', 'place', 'level', 'course', 'completely', 'obviate', 'handtuning', 'example', 'varying', 'numbers', 'layers', 'layer', 'sizes', 'provide', 'different', 'degrees', 'abstraction']\n"
     ]
    }
   ],
   "source": [
    "#Lo que hacemos aca es crear un 'commons.txt' previamente, en donde colocamos palabras comunes que NO son necesarias para el\n",
    "#macheo de skills técnicos; son palabras que eliminaremos de las palabras tokenizadas... por ejemplo en el content[28] \n",
    "#vemos que se repite mucho \"may\" (no del mes, sino del modal verb). Entonces agregamos este 'may' a la lista junto con\n",
    "#otras palabras comunes (como 'need' y 'also') y junto a todos los meses del año y sus abreviaciones. \n",
    "\n",
    "with open('Txts/common.txt') as f2:\n",
    "    content2 = f2.read()\n",
    "    \n",
    "texts2=[]\n",
    "l=len(texts)\n",
    "\n",
    "for j in range(l):\n",
    "    s=texts[j]\n",
    "    res = [i for i in s if i not in content2]\n",
    "    texts2.append(res)\n",
    "\n",
    "#Verificamos que los may y need desaparecieron:\n",
    "print(texts2[28])"
   ]
  },
  {
   "cell_type": "markdown",
   "metadata": {},
   "source": [
    "### 4-Creamos frases de 'Bigrams' (2 palabras que frecuentemente ocurren juntas)."
   ]
  },
  {
   "cell_type": "code",
   "execution_count": 1,
   "metadata": {},
   "outputs": [
    {
     "ename": "NameError",
     "evalue": "name 'Phrases' is not defined",
     "output_type": "error",
     "traceback": [
      "\u001b[0;31m---------------------------------------------------------------------------\u001b[0m",
      "\u001b[0;31mNameError\u001b[0m                                 Traceback (most recent call last)",
      "\u001b[0;32m<ipython-input-1-fb8755c4dce7>\u001b[0m in \u001b[0;36m<module>\u001b[0;34m\u001b[0m\n\u001b[1;32m      6\u001b[0m \u001b[0mcommon_terms\u001b[0m \u001b[0;34m=\u001b[0m \u001b[0;34m[\u001b[0m\u001b[0;34m\"of\"\u001b[0m\u001b[0;34m,\u001b[0m \u001b[0;34m\"with\"\u001b[0m\u001b[0;34m,\u001b[0m \u001b[0;34m\"without\"\u001b[0m\u001b[0;34m,\u001b[0m \u001b[0;34m\"and\"\u001b[0m\u001b[0;34m,\u001b[0m \u001b[0;34m\"or\"\u001b[0m\u001b[0;34m,\u001b[0m \u001b[0;34m\"the\"\u001b[0m\u001b[0;34m,\u001b[0m \u001b[0;34m\"a\"\u001b[0m\u001b[0;34m]\u001b[0m\u001b[0;34m\u001b[0m\u001b[0;34m\u001b[0m\u001b[0m\n\u001b[1;32m      7\u001b[0m \u001b[0;31m# Creamos frases relevantes desde nuestra lista de oraciones:\u001b[0m\u001b[0;34m\u001b[0m\u001b[0;34m\u001b[0m\u001b[0;34m\u001b[0m\u001b[0m\n\u001b[0;32m----> 8\u001b[0;31m \u001b[0mphrases\u001b[0m \u001b[0;34m=\u001b[0m \u001b[0mPhrases\u001b[0m\u001b[0;34m(\u001b[0m\u001b[0mtexts2\u001b[0m\u001b[0;34m,\u001b[0m \u001b[0mcommon_terms\u001b[0m\u001b[0;34m=\u001b[0m\u001b[0mcommon_terms\u001b[0m\u001b[0;34m)\u001b[0m\u001b[0;34m\u001b[0m\u001b[0;34m\u001b[0m\u001b[0m\n\u001b[0m\u001b[1;32m      9\u001b[0m \u001b[0;31m# Usamos el objeto Phraser ahora para transformar las oraciones:\u001b[0m\u001b[0;34m\u001b[0m\u001b[0;34m\u001b[0m\u001b[0;34m\u001b[0m\u001b[0m\n\u001b[1;32m     10\u001b[0m \u001b[0mbigram\u001b[0m \u001b[0;34m=\u001b[0m \u001b[0mPhraser\u001b[0m\u001b[0;34m(\u001b[0m\u001b[0mphrases\u001b[0m\u001b[0;34m)\u001b[0m\u001b[0;34m\u001b[0m\u001b[0;34m\u001b[0m\u001b[0m\n",
      "\u001b[0;31mNameError\u001b[0m: name 'Phrases' is not defined"
     ]
    }
   ],
   "source": [
    "#Lo que hacemos acá es unir palabras bigramas como: machine_learning, big_Data deep_learning (Que antes estaban separadas \n",
    "#pero que enrealidad van juntas; asi, objeto Phraser detecta esto y te lo devuelve como 1 sola palabra).\n",
    "#Los bigramas son construidos usando phrases (frases).\n",
    "    \n",
    "#Y despues los bigrams los creamos asi:\n",
    "common_terms = [\"of\", \"with\", \"without\", \"and\", \"or\", \"the\", \"a\"]\n",
    "# Creamos frases relevantes desde nuestra lista de oraciones: \n",
    "phrases = Phrases(texts2, common_terms=common_terms)\n",
    "# Usamos el objeto Phraser ahora para transformar las oraciones:\n",
    "bigram = Phraser(phrases)\n",
    "# Aplicamos el Phraser para transformar nuestras oraciones a algo más simple:\n",
    "all_sentences = list(bigram[texts2])\n",
    "\n",
    "#FALTA VER POR DENTRO COMO FUNCIONA PHARSER PARA DETECTAR LOS BIGRAMS.\n",
    "\n",
    "#Imprimimos todo nuestro vocabulario:\n",
    "all_sentences  #Lista de listas. Son 316 listas en total (una para cada linea que vimos anteriormente en el corpus)\n",
    "#Devolvemos todas las palabras con los bigrams... por ej. vemos que para la 1ra unió data y science en data_science. "
   ]
  },
  {
   "cell_type": "markdown",
   "metadata": {},
   "source": [
    "### 5-Creamos 'word embedding' mediante nuestro modelo 'word2vec' mediante la libreria Genism"
   ]
  },
  {
   "cell_type": "code",
   "execution_count": 12,
   "metadata": {},
   "outputs": [
    {
     "name": "stdout",
     "output_type": "stream",
     "text": [
      "1262\n"
     ]
    }
   ],
   "source": [
    "#La librería Gensim nos provee una simple API al algoritmo de Google 'word2vec' el cual es usado para crear word embeddings.\n",
    "#Como vimos previamente, word2vec son modelos de redes neuronales superficiales de dos capas que están entrenadas para\n",
    "#reconstruir contextos lingüísticos de palabras. \n",
    "\n",
    "#Podemos traer word embeddings pre-entrenados con noticias de Google por ejemplo, donde se entrenarán con 3 millones de palabras.\n",
    "#Pero, nosotros lo que hacemos es utilizar nuestro vocabulario para entrenar y crear nuestros propios embeddings.  \n",
    "\n",
    "#La entrada de la red neuronal es una palabra representada como un vector “one-hot”, es decir, un vector con tantas posiciones \n",
    "#como tamaño tenga el vocabulario. \n",
    "#Por ejemplo, si queremos representar la palabra “sol” de un vocabulario de 4 palabras (el sol está cayendo), usaremos un vector\n",
    "#de de esta dimensión (5) con cero en todas las posiciones menos la correspondiente a la palabra “sol” que tendrá \n",
    "#un uno --> [0,1,0,0]\n",
    "#Y la  salida de la red neuronal será otro vector “one-hot” llamado “Word embedding” de las mismas 4 posiciones que representará\n",
    "#las probabilidades de cada una de las palabras sean vecinas de la palabra representada en la entrada. [0.12, 1, 0.4, 0.1]\n",
    "#--> Es 1 en la 2da posición ya que es la misma posición de la palabra. \n",
    "\n",
    "#Word embedding es una de las representaciones de un documento de vocabulario más popular. Es capaz de caputar los\n",
    "#contextos de una palabra en el documento, similitud semantica y sintáctica, relaciones con otras palabras, etc.\n",
    "\n",
    "#Mediante la siguiente línea de código entrenamos al modelo Word2Vec mediante nuestras 1275 palabras contenidas en “all_Sentences”:\n",
    "model=gensim.models.Word2Vec(all_sentences,size=5000,min_count=2,workers=4,window=4,sg=0) #lo entrenamos con las all_sentences anterior.\n",
    "#Ver como dividir en train y test. En nuestro caso igualmente no es necesario ya que no vamos a predecir palabras en base a contectos, \n",
    "#simplemente vamos a obtener las palabras más similares... entonces usamos TODAS las sentencias como entrenamiento. \n",
    "\n",
    "#Parametros funcion Word2Vec:\n",
    "#size: la longitud del vector denso para representar cada palabra. #VER.\n",
    "#window: es el tamaño del \"filtro\" que se usa para analizar el contexto entre una palbras y las otras.  #CREO, VER. \n",
    "#workers: las iteraciones de entrenamiento.  #ESO ENTENDI, VER. \n",
    "#sg: es si utiliza el algoritmo de entrenamiento CBOW o skip gram. Por defecto estáen 0 (CBOW).\n",
    "\n",
    "model.save(\"final.model\")\n",
    "wrds=list(model.wv.vocab)   #El modelo nos da un vocabulario con palabras con las cuales podemos consultar. \n",
    "print(len(wrds))\n",
    "\n",
    "#ME devuelve 1275 palabras de vocabulario. SON MUY POCAS, podríamos usar vectores entrenados embeddings de Google. --> MEJORA. "
   ]
  },
  {
   "cell_type": "code",
   "execution_count": 13,
   "metadata": {},
   "outputs": [],
   "source": [
    "#Gracias a nuestros words embeddings obtenidos por el entrenamiento en el modelo word2vec,\n",
    "#ahora podemos realizar funciones como 'most_similar'....testeamos nuestro modelo: \n",
    "ModeloPrueba=model.wv.most_similar(\"machine_learning\")     \n",
    "\n",
    "#La función most_similar busca palabras que esten semánticamente\n",
    "#cercas (que sean parecidas) a una palabra dada (En este caso 'machine_learning').\n",
    "#SABER: machine_learning DEBE estar en nuestro VOCABULARIO, por ej.  NO podemos poner NLP porque no está (VER PORQUE NO LO PUSO SI ESTÁ EN EL SKILLS.TXT)"
   ]
  },
  {
   "cell_type": "code",
   "execution_count": 14,
   "metadata": {},
   "outputs": [
    {
     "name": "stdout",
     "output_type": "stream",
     "text": [
      "[('data', 0.14409083127975464), ('software', 0.1296212375164032), ('system', 0.12239610403776169), ('requirements', 0.11825299263000488), ('model', 0.11745642870664597), ('new', 0.1172252669930458), ('design', 0.112401083111763), ('speech_recognition', 0.11032573133707047), ('used', 0.10927296429872513), ('systems', 0.10820966958999634)]\n"
     ]
    }
   ],
   "source": [
    "print(ModeloPrueba)"
   ]
  },
  {
   "cell_type": "markdown",
   "metadata": {},
   "source": [
    "### 6-Extraemos los CVs/Resumes usando PyPDF y los convertimos en string."
   ]
  },
  {
   "cell_type": "code",
   "execution_count": 15,
   "metadata": {},
   "outputs": [
    {
     "name": "stdout",
     "output_type": "stream",
     "text": [
      "Cantidad de CVs extraidos: 6\n"
     ]
    }
   ],
   "source": [
    "#Leemos los CVs almacenados en nuestra carpeta y los extraemos uno por uno mediante la libreria PyPDF; devolviendonos\n",
    "#una secuencia de strings. Estos strings son preprocesados y luego van a ser procesados nuevamente para crear el perfil\n",
    "#del candidato. \n",
    "pathCVs='Resumes' #Ruta Relativa, ubicacion de la carpeta.  #Antes, ruta absoluta: r'C:\\Users\\calon\\Desktop\\Notebooks\\Resume-Scoring-using-NLP-master\\Resume-Scoring-using-NLP-master\\Resumes'\n",
    "onlyfiles = [os.path.join(pathCVs, f) for f in os.listdir(pathCVs) if os.path.isfile(os.path.join(pathCVs, f))]\n",
    "\n",
    "print(\"Cantidad de CVs extraidos:\", len(onlyfiles))"
   ]
  },
  {
   "cell_type": "code",
   "execution_count": 16,
   "metadata": {},
   "outputs": [],
   "source": [
    "#Funcion para extraer las palabras del CV:\n",
    "import collections\n",
    "def pdfextract(file):\n",
    "    pdf_file = open(file, 'rb')\n",
    "    read_pdf = PyPDF2.PdfFileReader(pdf_file)\n",
    "    number_of_pages = read_pdf.getNumPages()\n",
    "    c = collections.Counter(range(number_of_pages))\n",
    "    for i in c:\n",
    "        page = read_pdf.getPage(i)\n",
    "        page_content = page.extractText()\n",
    "    return (page_content.encode('utf-8'))"
   ]
  },
  {
   "cell_type": "code",
   "execution_count": 17,
   "metadata": {},
   "outputs": [
    {
     "data": {
      "text/plain": [
       "['data',\n",
       " 'software',\n",
       " 'system',\n",
       " 'requirements',\n",
       " 'model',\n",
       " 'new',\n",
       " 'design',\n",
       " 'speech_recognition',\n",
       " 'used',\n",
       " 'systems']"
      ]
     },
     "execution_count": 17,
     "metadata": {},
     "output_type": "execute_result"
    }
   ],
   "source": [
    "#Según nuestro modelo para \"machine learning\" sim_words_ML serian las palabras similares.\n",
    "sim_words_ML=[k[0] for k in model.wv.most_similar(\"machine_learning\")]   \n",
    "sim_words_ML\n",
    "\n",
    "#Ver como descartar cuando la probabilidad es menor y porque me devuelve las 10 más parecidas... ver este parametro.\n",
    "#('systems', 0.15548837184906006)"
   ]
  },
  {
   "cell_type": "code",
   "execution_count": 18,
   "metadata": {},
   "outputs": [
    {
     "data": {
      "text/plain": [
       "['software',\n",
       " 'data',\n",
       " 'data_science',\n",
       " 'using',\n",
       " 'one',\n",
       " 'model',\n",
       " 'used',\n",
       " 'system',\n",
       " 'new',\n",
       " 'systems']"
      ]
     },
     "execution_count": 18,
     "metadata": {},
     "output_type": "execute_result"
    }
   ],
   "source": [
    "sim_words_NLP=[k[0] for k in model.wv.most_similar(\"statistics\")]\n",
    "\n",
    "sim_words_NLP "
   ]
  },
  {
   "cell_type": "markdown",
   "metadata": {},
   "source": [
    "### 7- Contruimos el perfil del candidato (candidate profile) usando 'model.most_similar(skills)' (donde 'skills' es un array de los skills requeridos). Y luego creamos un  'Matcher' usando Spacy para machear las palabras en el CV con 'most_similar(skills)'."
   ]
  },
  {
   "cell_type": "code",
   "execution_count": 19,
   "metadata": {},
   "outputs": [],
   "source": [
    "#El 'PhraseMatcher\" de Spacy es usado para machear el array (obtenido de word2vec) con el texto extraido. \n",
    "#De esta manera asignará cada skill a una keyword particular con un SCORE acorde. \n",
    "#Para usar el modelo \"en_core_web_sm\" necesitamos ejecutar el comando en la consola \n",
    "    #-->   >python -m spacy download en_core_web_sm \n",
    "import spacy\n",
    "nlp = spacy.load(\"en_core_web_sm\")\n",
    "\n",
    "def create_profile(file):\n",
    "    model=Word2Vec.load(\"final.model\")\n",
    "    text = str(pdfextract(file))\n",
    "    text = text.replace(\"\\\\n\", \"\")\n",
    "    text = text.lower()\n",
    "   \n",
    "    stats = [nlp(text[0]) for text in model.wv.most_similar(\"statistics\")]\n",
    "    NLP = [nlp(text[0]) for text in model.wv.most_similar(\"language\")]\n",
    "    ML = [nlp(text[0]) for text in model.wv.most_similar(\"machine_learning\")]\n",
    "    DL = [nlp(text[0]) for text in model.wv.most_similar(\"deep\")]\n",
    "    python = [nlp(text[0]) for text in model.wv.most_similar(\"python\")]\n",
    "    Data_Engineering = [nlp(text[0]) for text in model.wv.most_similar(\"data\")]\n",
    "   \n",
    "    print(\"*******************************************\")\n",
    "    #print(stats_words,NLP_words)\n",
    "    matcher = PhraseMatcher(nlp.vocab)\n",
    "    matcher.add('Stats', None, *stats)\n",
    "    matcher.add('NLP', None, *NLP)\n",
    "    matcher.add('ML', None, *ML)\n",
    "    matcher.add('DL', None, *DL)\n",
    "    matcher.add('Python', None, *python)\n",
    "    matcher.add('DE', None, *Data_Engineering)\n",
    "    doc = nlp(text)\n",
    "    \n",
    "    d = []  \n",
    "    matches = matcher(doc)\n",
    "    for match_id, start, end in matches:\n",
    "        rule_id = nlp.vocab.strings[match_id]  #Obtenemos el ID único.\n",
    "        span = doc[start : end]                #obtenemos la porción que coincide/machea en el documento. \n",
    "        d.append((rule_id, span.text))      \n",
    "    keywords = \"\\n\".join(f'{i[0]} {i[1]} ({j})' for i,j in Counter(d).items())\n",
    "    print(\"KEYWORDS\")\n",
    "    print(keywords)\n",
    "    \n",
    "    ## Convertimos el string de KeyWords a DataFrame:\n",
    "    df = pd.read_csv(StringIO(keywords),names = ['Keywords_List'])\n",
    "    df1 = pd.DataFrame(df.Keywords_List.str.split(' ',1).tolist(),columns = ['Subject','Keyword'])\n",
    "    df2 = pd.DataFrame(df1.Keyword.str.split('(',1).tolist(),columns = ['Keyword', 'Count'])\n",
    "    df3 = pd.concat([df1['Subject'],df2['Keyword'], df2['Count']], axis =1) \n",
    "    df3['Count'] = df3['Count'].apply(lambda x: x.rstrip(\")\"))\n",
    "    print(\"********************DF********************\")\n",
    "    print(df)\n",
    "    \n",
    "    base = os.path.basename(file)\n",
    "    filename = os.path.splitext(base)[0]\n",
    "    \n",
    "    name = filename.split('_')\n",
    "    print(name)\n",
    "    name2 = name[0]\n",
    "    name2 = name2.lower()\n",
    "    ## Convertimos string a DataFrame:\n",
    "    name3 = pd.read_csv(StringIO(name2),names = ['Candidate Name'])\n",
    "    \n",
    "    dataf = pd.concat([name3['Candidate Name'], df3['Subject'], df3['Keyword'], df3['Count']], axis = 1)\n",
    "    dataf['Candidate Name'].fillna(dataf['Candidate Name'].iloc[0], inplace = True)\n",
    "    print(\"******************DATAF**************\")\n",
    "    print(dataf)\n",
    "\n",
    "    return(dataf)"
   ]
  },
  {
   "cell_type": "code",
   "execution_count": 20,
   "metadata": {},
   "outputs": [
    {
     "name": "stdout",
     "output_type": "stream",
     "text": [
      "*******************************************\n",
      "KEYWORDS\n",
      "Stats using (4)\n",
      "********************DF********************\n",
      "     Keywords_List\n",
      "0  Stats using (4)\n",
      "['Chandler']\n",
      "******************DATAF**************\n",
      "  Candidate Name Subject Keyword Count\n",
      "0       chandler   Stats  using      4\n",
      "*******************************************\n",
      "KEYWORDS\n",
      "Stats using (5)\n",
      "Python deep (1)\n",
      "********************DF********************\n",
      "     Keywords_List\n",
      "0  Stats using (5)\n",
      "1  Python deep (1)\n",
      "['Phoebe Buffay']\n",
      "******************DATAF**************\n",
      "  Candidate Name Subject Keyword Count\n",
      "0  phoebe buffay   Stats  using      5\n",
      "1  phoebe buffay  Python   deep      1\n",
      "*******************************************\n",
      "KEYWORDS\n",
      "ML data (1)\n",
      "NLP data (1)\n",
      "Stats data (1)\n",
      "DL data (1)\n",
      "Python data (1)\n",
      "ML systems (1)\n",
      "NLP systems (1)\n",
      "Stats systems (1)\n",
      "DE systems (1)\n",
      "DL systems (1)\n",
      "********************DF********************\n",
      "       Keywords_List\n",
      "0        ML data (1)\n",
      "1       NLP data (1)\n",
      "2     Stats data (1)\n",
      "3        DL data (1)\n",
      "4    Python data (1)\n",
      "5     ML systems (1)\n",
      "6    NLP systems (1)\n",
      "7  Stats systems (1)\n",
      "8     DE systems (1)\n",
      "9     DL systems (1)\n",
      "['CalongeFederico']\n",
      "******************DATAF**************\n",
      "    Candidate Name Subject   Keyword Count\n",
      "0  calongefederico      ML     data      1\n",
      "1  calongefederico     NLP     data      1\n",
      "2  calongefederico   Stats     data      1\n",
      "3  calongefederico      DL     data      1\n",
      "4  calongefederico  Python     data      1\n",
      "5  calongefederico      ML  systems      1\n",
      "6  calongefederico     NLP  systems      1\n",
      "7  calongefederico   Stats  systems      1\n",
      "8  calongefederico      DE  systems      1\n",
      "9  calongefederico      DL  systems      1\n",
      "*******************************************\n",
      "KEYWORDS\n",
      "ML data (1)\n",
      "NLP data (1)\n",
      "Stats data (1)\n",
      "DL data (1)\n",
      "Python data (1)\n",
      "Stats using (3)\n",
      "********************DF********************\n",
      "     Keywords_List\n",
      "0      ML data (1)\n",
      "1     NLP data (1)\n",
      "2   Stats data (1)\n",
      "3      DL data (1)\n",
      "4  Python data (1)\n",
      "5  Stats using (3)\n",
      "['MeghnaLohani']\n",
      "******************DATAF**************\n",
      "  Candidate Name Subject Keyword Count\n",
      "0   meghnalohani      ML   data      1\n",
      "1   meghnalohani     NLP   data      1\n",
      "2   meghnalohani   Stats   data      1\n",
      "3   meghnalohani      DL   data      1\n",
      "4   meghnalohani  Python   data      1\n",
      "5   meghnalohani   Stats  using      3\n",
      "*******************************************\n",
      "KEYWORDS\n",
      "Stats using (4)\n",
      "********************DF********************\n",
      "     Keywords_List\n",
      "0  Stats using (4)\n",
      "['VAISHALI BIJOY']\n",
      "******************DATAF**************\n",
      "   Candidate Name Subject Keyword Count\n",
      "0  vaishali bijoy   Stats  using      4\n",
      "*******************************************\n",
      "KEYWORDS\n",
      "NLP programming (1)\n",
      "DE programming (1)\n",
      "DL programming (1)\n",
      "Python programming (1)\n",
      "ML design (1)\n",
      "ML systems (1)\n",
      "NLP systems (1)\n",
      "Stats systems (1)\n",
      "DE systems (1)\n",
      "DL systems (1)\n",
      "ML software (1)\n",
      "NLP software (1)\n",
      "Stats software (1)\n",
      "DE software (1)\n",
      "DL software (1)\n",
      "Python software (1)\n",
      "ML data (3)\n",
      "NLP data (3)\n",
      "Stats data (3)\n",
      "DL data (3)\n",
      "Python data (3)\n",
      "********************DF********************\n",
      "             Keywords_List\n",
      "0      NLP programming (1)\n",
      "1       DE programming (1)\n",
      "2       DL programming (1)\n",
      "3   Python programming (1)\n",
      "4            ML design (1)\n",
      "5           ML systems (1)\n",
      "6          NLP systems (1)\n",
      "7        Stats systems (1)\n",
      "8           DE systems (1)\n",
      "9           DL systems (1)\n",
      "10         ML software (1)\n",
      "11        NLP software (1)\n",
      "12      Stats software (1)\n",
      "13         DE software (1)\n",
      "14         DL software (1)\n",
      "15     Python software (1)\n",
      "16             ML data (3)\n",
      "17            NLP data (3)\n",
      "18          Stats data (3)\n",
      "19             DL data (3)\n",
      "20         Python data (3)\n",
      "['AmanSharma']\n",
      "******************DATAF**************\n",
      "   Candidate Name Subject       Keyword Count\n",
      "0      amansharma     NLP  programming      1\n",
      "1      amansharma      DE  programming      1\n",
      "2      amansharma      DL  programming      1\n",
      "3      amansharma  Python  programming      1\n",
      "4      amansharma      ML       design      1\n",
      "5      amansharma      ML      systems      1\n",
      "6      amansharma     NLP      systems      1\n",
      "7      amansharma   Stats      systems      1\n",
      "8      amansharma      DE      systems      1\n",
      "9      amansharma      DL      systems      1\n",
      "10     amansharma      ML     software      1\n",
      "11     amansharma     NLP     software      1\n",
      "12     amansharma   Stats     software      1\n",
      "13     amansharma      DE     software      1\n",
      "14     amansharma      DL     software      1\n",
      "15     amansharma  Python     software      1\n",
      "16     amansharma      ML         data      3\n",
      "17     amansharma     NLP         data      3\n",
      "18     amansharma   Stats         data      3\n",
      "19     amansharma      DL         data      3\n",
      "20     amansharma  Python         data      3\n"
     ]
    }
   ],
   "source": [
    "#Ejecutamos la función create_profile de arriba pasandole cada CV:\n",
    "final_db=pd.DataFrame()\n",
    "i=0\n",
    "while i < len(onlyfiles):\n",
    "    file=onlyfiles[i]\n",
    "    dat=create_profile(file)\n",
    "\n",
    "    final_db=final_db.append(dat)\n",
    "    i+=1\n",
    "    #print(final_db)"
   ]
  },
  {
   "cell_type": "markdown",
   "metadata": {},
   "source": [
    "### 8-Contamos las palabras para cada categoria e imprimimos nuestro 'candidate profile'."
   ]
  },
  {
   "cell_type": "code",
   "execution_count": 21,
   "metadata": {},
   "outputs": [
    {
     "data": {
      "text/html": [
       "<div>\n",
       "<style scoped>\n",
       "    .dataframe tbody tr th:only-of-type {\n",
       "        vertical-align: middle;\n",
       "    }\n",
       "\n",
       "    .dataframe tbody tr th {\n",
       "        vertical-align: top;\n",
       "    }\n",
       "\n",
       "    .dataframe thead th {\n",
       "        text-align: right;\n",
       "    }\n",
       "</style>\n",
       "<table border=\"1\" class=\"dataframe\">\n",
       "  <thead>\n",
       "    <tr style=\"text-align: right;\">\n",
       "      <th></th>\n",
       "      <th>Candidate Name</th>\n",
       "      <th>DE</th>\n",
       "      <th>DL</th>\n",
       "      <th>ML</th>\n",
       "      <th>NLP</th>\n",
       "      <th>Python</th>\n",
       "      <th>Stats</th>\n",
       "    </tr>\n",
       "  </thead>\n",
       "  <tbody>\n",
       "    <tr>\n",
       "      <th>0</th>\n",
       "      <td>amansharma</td>\n",
       "      <td>3.0</td>\n",
       "      <td>4.0</td>\n",
       "      <td>4.0</td>\n",
       "      <td>4.0</td>\n",
       "      <td>3.0</td>\n",
       "      <td>3.0</td>\n",
       "    </tr>\n",
       "    <tr>\n",
       "      <th>1</th>\n",
       "      <td>calongefederico</td>\n",
       "      <td>1.0</td>\n",
       "      <td>2.0</td>\n",
       "      <td>2.0</td>\n",
       "      <td>2.0</td>\n",
       "      <td>1.0</td>\n",
       "      <td>2.0</td>\n",
       "    </tr>\n",
       "    <tr>\n",
       "      <th>2</th>\n",
       "      <td>chandler</td>\n",
       "      <td>0.0</td>\n",
       "      <td>0.0</td>\n",
       "      <td>0.0</td>\n",
       "      <td>0.0</td>\n",
       "      <td>0.0</td>\n",
       "      <td>1.0</td>\n",
       "    </tr>\n",
       "    <tr>\n",
       "      <th>3</th>\n",
       "      <td>meghnalohani</td>\n",
       "      <td>0.0</td>\n",
       "      <td>1.0</td>\n",
       "      <td>1.0</td>\n",
       "      <td>1.0</td>\n",
       "      <td>1.0</td>\n",
       "      <td>2.0</td>\n",
       "    </tr>\n",
       "    <tr>\n",
       "      <th>4</th>\n",
       "      <td>phoebe buffay</td>\n",
       "      <td>0.0</td>\n",
       "      <td>0.0</td>\n",
       "      <td>0.0</td>\n",
       "      <td>0.0</td>\n",
       "      <td>1.0</td>\n",
       "      <td>1.0</td>\n",
       "    </tr>\n",
       "    <tr>\n",
       "      <th>5</th>\n",
       "      <td>vaishali bijoy</td>\n",
       "      <td>0.0</td>\n",
       "      <td>0.0</td>\n",
       "      <td>0.0</td>\n",
       "      <td>0.0</td>\n",
       "      <td>0.0</td>\n",
       "      <td>1.0</td>\n",
       "    </tr>\n",
       "  </tbody>\n",
       "</table>\n",
       "</div>"
      ],
      "text/plain": [
       "    Candidate Name   DE   DL   ML  NLP  Python  Stats\n",
       "0       amansharma  3.0  4.0  4.0  4.0     3.0    3.0\n",
       "1  calongefederico  1.0  2.0  2.0  2.0     1.0    2.0\n",
       "2         chandler  0.0  0.0  0.0  0.0     0.0    1.0\n",
       "3     meghnalohani  0.0  1.0  1.0  1.0     1.0    2.0\n",
       "4    phoebe buffay  0.0  0.0  0.0  0.0     1.0    1.0\n",
       "5   vaishali bijoy  0.0  0.0  0.0  0.0     0.0    1.0"
      ]
     },
     "execution_count": 21,
     "metadata": {},
     "output_type": "execute_result"
    }
   ],
   "source": [
    "final_db2 = final_db['Keyword'].groupby([final_db['Candidate Name'], final_db['Subject']]).count().unstack()\n",
    "final_db2.reset_index(inplace = True)\n",
    "final_db2.fillna(0,inplace=True)\n",
    "candidate_data = final_db2.iloc[:,1:]\n",
    "candidate_data.index = final_db2['Candidate Name']\n",
    "\n",
    "#Pasamos a csv el 'candidate profile' para imprimirlo con Pandas:\n",
    "cand=candidate_data.to_csv('candidate_profile.csv')\n",
    "cand_profile=pd.read_csv('candidate_profile.csv')\n",
    "cand_profile"
   ]
  },
  {
   "cell_type": "markdown",
   "metadata": {},
   "source": [
    "### 9-Visualizamos el candidate profile con matplotlib."
   ]
  },
  {
   "cell_type": "code",
   "execution_count": 22,
   "metadata": {},
   "outputs": [
    {
     "data": {
      "image/png": "[encoded data removed]",
      "text/plain": [
       "<Figure size 2664x720 with 1 Axes>"
      ]
     },
     "metadata": {
      "needs_background": "light"
     },
     "output_type": "display_data"
    }
   ],
   "source": [
    "#Visualizamos el 'candidate profile' mediante un gráfico de barras usando los scores para cada skill.\n",
    "#De esta manera el reclutador interpretará facilmente cada perfil de candidato. \n",
    "\n",
    "plt.rcParams.update({'font.size': 20})\n",
    "ax = candidate_data.plot.barh(title=\"Keywords en los CVs acorde a cada Categoria\", legend=False, figsize=(37,10), stacked=True)\n",
    "skills = []\n",
    "for j in candidate_data.columns:\n",
    "    for i in candidate_data.index:\n",
    "        skill = str(j)+\": \" + str(candidate_data.loc[i][j])\n",
    "        skills.append(skill)\n",
    "patches = ax.patches\n",
    "for skill, rect in zip(skills, patches):\n",
    "    width = rect.get_width()\n",
    "    if width > 0:\n",
    "        x = rect.get_x()\n",
    "        y = rect.get_y()\n",
    "        height = rect.get_height()\n",
    "        ax.text(x + width/2., y + height/2., skill, ha='center', va='center')\n",
    "plt.show()"
   ]
  },
  {
   "cell_type": "code",
   "execution_count": 1,
   "metadata": {},
   "outputs": [],
   "source": [
    "#Conclusiones:\n",
    "#De esta manera podemos machear cada skill en el cv del candidato con una keyword particular (machine learning, programming, etc.)\n",
    "#basandonos en la distancia semantica entre las palabras (utilizando Word Embeddings). \n",
    "#El macheo lo realizamos con 'PhraseMatcher\" de Spacy; y creamos un SCORE para cada keyword.\n",
    "#Los SCORES finales los visualizamos en un bar plot.\n",
    "\n",
    "#Mejoras:\n",
    "#Tener un mejor CORPUS y mucho más grande que el skills.txt que tenemos (con vocabulario limitado) para que el modelo sea más preciso. \n",
    "#Agregar las palabras más comunes."
   ]
  },
  {
   "cell_type": "markdown",
   "metadata": {},
   "source": [
    "# Referencias"
   ]
  },
  {
   "cell_type": "markdown",
   "metadata": {},
   "source": [
    "1. https://machinelearningmastery.com/develop-word-embeddings-python-gensim/\n",
    "2. https://www.shanelynn.ie/word-embeddings-in-python-with-spacy-and-gensim/\n",
    "3. https://app.sketchengine.eu/\n"
   ]
  }
 ],
 "metadata": {
  "kernelspec": {
   "display_name": "Python 3",
   "language": "python",
   "name": "python3"
  },
  "language_info": {
   "codemirror_mode": {
    "name": "ipython",
    "version": 3
   },
   "file_extension": ".py",
   "mimetype": "text/x-python",
   "name": "python",
   "nbconvert_exporter": "python",
   "pygments_lexer": "ipython3",
   "version": "3.8.8"
  }
 },
 "nbformat": 4,
 "nbformat_minor": 2
}
