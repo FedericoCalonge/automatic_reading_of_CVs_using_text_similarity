{
 "cells": [
  {
   "cell_type": "markdown",
   "metadata": {},
   "source": [
    "# WMD And Cosine Similarity Applied To CVs and Jobs.\n",
    "\n",
    "-Ejemplos ESPECIFICOS de WDM y Cosine SImilarity aplicado a CVs y Jobs, basados en:\n",
    "* Poner link. \n",
    "* Poner link.\n",
    "    \n",
    "-¿Qué hace?:Completar.\n",
    "\n",
    "**Workflow**:\n",
    "1. Completar\n",
    "2. Completar2"
   ]
  },
  {
   "cell_type": "markdown",
   "metadata": {},
   "source": [
    "### 1 - Completar"
   ]
  },
  {
   "cell_type": "code",
   "execution_count": null,
   "metadata": {},
   "outputs": [],
   "source": []
  },
  {
   "cell_type": "markdown",
   "metadata": {},
   "source": [
    "### 2-Completar2"
   ]
  },
  {
   "cell_type": "code",
   "execution_count": null,
   "metadata": {},
   "outputs": [],
   "source": []
  }
 ],
 "metadata": {
  "kernelspec": {
   "display_name": "Python 3",
   "language": "python",
   "name": "python3"
  },
  "language_info": {
   "codemirror_mode": {
    "name": "ipython",
    "version": 3
   },
   "file_extension": ".py",
   "mimetype": "text/x-python",
   "name": "python",
   "nbconvert_exporter": "python",
   "pygments_lexer": "ipython3",
   "version": "3.8.8"
  }
 },
 "nbformat": 4,
 "nbformat_minor": 2
}
