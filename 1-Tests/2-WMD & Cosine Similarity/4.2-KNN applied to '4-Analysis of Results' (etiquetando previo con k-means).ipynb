{
 "cells": [
  {
   "cell_type": "code",
   "execution_count": 205,
   "id": "concrete-forth",
   "metadata": {},
   "outputs": [
    {
     "data": {
      "text/html": [
       "<div>\n",
       "<style scoped>\n",
       "    .dataframe tbody tr th:only-of-type {\n",
       "        vertical-align: middle;\n",
       "    }\n",
       "\n",
       "    .dataframe tbody tr th {\n",
       "        vertical-align: top;\n",
       "    }\n",
       "\n",
       "    .dataframe thead th {\n",
       "        text-align: right;\n",
       "    }\n",
       "</style>\n",
       "<table border=\"1\" class=\"dataframe\">\n",
       "  <thead>\n",
       "    <tr style=\"text-align: right;\">\n",
       "      <th></th>\n",
       "      <th>Candidate_Name</th>\n",
       "      <th>Content_CV</th>\n",
       "      <th>clean_Content_CV</th>\n",
       "      <th>tokens_Content_CV</th>\n",
       "      <th>Job_Title</th>\n",
       "      <th>Job_Description</th>\n",
       "      <th>clean_Job_Description</th>\n",
       "      <th>tokens_Job_Description</th>\n",
       "      <th>Keywords</th>\n",
       "      <th>Cosine_Job_Desc</th>\n",
       "      <th>WMD_Job_Desc</th>\n",
       "    </tr>\n",
       "  </thead>\n",
       "  <tbody>\n",
       "    <tr>\n",
       "      <th>95</th>\n",
       "      <td>Web_Dev_Karen_Higgins</td>\n",
       "      <td>\\nKaren Higgins \\n        We b Developer \\n \\n...</td>\n",
       "      <td>karen higgins b developer areas expertise pers...</td>\n",
       "      <td>['karen', 'higgins', 'b', 'developer', 'area',...</td>\n",
       "      <td>Machine Learning Engineer 2</td>\n",
       "      <td>collaborate with a multidisciplinary team to g...</td>\n",
       "      <td>collaborate multidisciplinary team gain insigh...</td>\n",
       "      <td>['collaborate', 'multidisciplinary', 'team', '...</td>\n",
       "      <td>2+, knowledge, of, with, experience, collabora...</td>\n",
       "      <td>0.158</td>\n",
       "      <td>0.496</td>\n",
       "    </tr>\n",
       "    <tr>\n",
       "      <th>96</th>\n",
       "      <td>Web_Dev_Karen_Higgins</td>\n",
       "      <td>\\nKaren Higgins \\n        We b Developer \\n \\n...</td>\n",
       "      <td>karen higgins b developer areas expertise pers...</td>\n",
       "      <td>['karen', 'higgins', 'b', 'developer', 'area',...</td>\n",
       "      <td>Security Specialist</td>\n",
       "      <td>work in a fast-paced environment that combine ...</td>\n",
       "      <td>work fast-paced environment combine technical ...</td>\n",
       "      <td>['work', 'fast-paced', 'environment', 'combine...</td>\n",
       "      <td>experience, with, work, fast-paced, combine, o...</td>\n",
       "      <td>0.154</td>\n",
       "      <td>0.501</td>\n",
       "    </tr>\n",
       "    <tr>\n",
       "      <th>97</th>\n",
       "      <td>Web_Dev_Karen_Higgins</td>\n",
       "      <td>\\nKaren Higgins \\n        We b Developer \\n \\n...</td>\n",
       "      <td>karen higgins b developer areas expertise pers...</td>\n",
       "      <td>['karen', 'higgins', 'b', 'developer', 'area',...</td>\n",
       "      <td>Security Specialist 2</td>\n",
       "      <td>\\n    handling incoming requests for assistanc...</td>\n",
       "      <td>handling incoming requests assistance business...</td>\n",
       "      <td>['handling', 'incoming', 'request', 'assistanc...</td>\n",
       "      <td>security, of, handling, incoming, requests, fo...</td>\n",
       "      <td>0.115</td>\n",
       "      <td>0.486</td>\n",
       "    </tr>\n",
       "    <tr>\n",
       "      <th>98</th>\n",
       "      <td>Web_Dev_Karen_Higgins</td>\n",
       "      <td>\\nKaren Higgins \\n        We b Developer \\n \\n...</td>\n",
       "      <td>karen higgins b developer areas expertise pers...</td>\n",
       "      <td>['karen', 'higgins', 'b', 'developer', 'area',...</td>\n",
       "      <td>Web Developer Full Stack</td>\n",
       "      <td>\\n\\n    graduate degree in information technol...</td>\n",
       "      <td>graduate degree information technology similar...</td>\n",
       "      <td>['graduate', 'degree', 'information', 'technol...</td>\n",
       "      <td>experience, written, typescript), skills, and,...</td>\n",
       "      <td>0.188</td>\n",
       "      <td>0.490</td>\n",
       "    </tr>\n",
       "    <tr>\n",
       "      <th>99</th>\n",
       "      <td>Web_Dev_Karen_Higgins</td>\n",
       "      <td>\\nKaren Higgins \\n        We b Developer \\n \\n...</td>\n",
       "      <td>karen higgins b developer areas expertise pers...</td>\n",
       "      <td>['karen', 'higgins', 'b', 'developer', 'area',...</td>\n",
       "      <td>Web Developer Full Stack 2</td>\n",
       "      <td>\\n· enter existing website codebases and exten...</td>\n",
       "      <td>enter existing website codebases extend functi...</td>\n",
       "      <td>['enter', 'existing', 'website', 'codebases', ...</td>\n",
       "      <td>5, (required), enter, existing, website, codeb...</td>\n",
       "      <td>0.204</td>\n",
       "      <td>0.507</td>\n",
       "    </tr>\n",
       "  </tbody>\n",
       "</table>\n",
       "</div>"
      ],
      "text/plain": [
       "           Candidate_Name                                         Content_CV  \\\n",
       "95  Web_Dev_Karen_Higgins  \\nKaren Higgins \\n        We b Developer \\n \\n...   \n",
       "96  Web_Dev_Karen_Higgins  \\nKaren Higgins \\n        We b Developer \\n \\n...   \n",
       "97  Web_Dev_Karen_Higgins  \\nKaren Higgins \\n        We b Developer \\n \\n...   \n",
       "98  Web_Dev_Karen_Higgins  \\nKaren Higgins \\n        We b Developer \\n \\n...   \n",
       "99  Web_Dev_Karen_Higgins  \\nKaren Higgins \\n        We b Developer \\n \\n...   \n",
       "\n",
       "                                     clean_Content_CV  \\\n",
       "95  karen higgins b developer areas expertise pers...   \n",
       "96  karen higgins b developer areas expertise pers...   \n",
       "97  karen higgins b developer areas expertise pers...   \n",
       "98  karen higgins b developer areas expertise pers...   \n",
       "99  karen higgins b developer areas expertise pers...   \n",
       "\n",
       "                                    tokens_Content_CV  \\\n",
       "95  ['karen', 'higgins', 'b', 'developer', 'area',...   \n",
       "96  ['karen', 'higgins', 'b', 'developer', 'area',...   \n",
       "97  ['karen', 'higgins', 'b', 'developer', 'area',...   \n",
       "98  ['karen', 'higgins', 'b', 'developer', 'area',...   \n",
       "99  ['karen', 'higgins', 'b', 'developer', 'area',...   \n",
       "\n",
       "                      Job_Title  \\\n",
       "95  Machine Learning Engineer 2   \n",
       "96          Security Specialist   \n",
       "97        Security Specialist 2   \n",
       "98     Web Developer Full Stack   \n",
       "99   Web Developer Full Stack 2   \n",
       "\n",
       "                                      Job_Description  \\\n",
       "95  collaborate with a multidisciplinary team to g...   \n",
       "96  work in a fast-paced environment that combine ...   \n",
       "97  \\n    handling incoming requests for assistanc...   \n",
       "98  \\n\\n    graduate degree in information technol...   \n",
       "99  \\n· enter existing website codebases and exten...   \n",
       "\n",
       "                                clean_Job_Description  \\\n",
       "95  collaborate multidisciplinary team gain insigh...   \n",
       "96  work fast-paced environment combine technical ...   \n",
       "97  handling incoming requests assistance business...   \n",
       "98  graduate degree information technology similar...   \n",
       "99  enter existing website codebases extend functi...   \n",
       "\n",
       "                               tokens_Job_Description  \\\n",
       "95  ['collaborate', 'multidisciplinary', 'team', '...   \n",
       "96  ['work', 'fast-paced', 'environment', 'combine...   \n",
       "97  ['handling', 'incoming', 'request', 'assistanc...   \n",
       "98  ['graduate', 'degree', 'information', 'technol...   \n",
       "99  ['enter', 'existing', 'website', 'codebases', ...   \n",
       "\n",
       "                                             Keywords  Cosine_Job_Desc  \\\n",
       "95  2+, knowledge, of, with, experience, collabora...            0.158   \n",
       "96  experience, with, work, fast-paced, combine, o...            0.154   \n",
       "97  security, of, handling, incoming, requests, fo...            0.115   \n",
       "98  experience, written, typescript), skills, and,...            0.188   \n",
       "99  5, (required), enter, existing, website, codeb...            0.204   \n",
       "\n",
       "    WMD_Job_Desc  \n",
       "95         0.496  \n",
       "96         0.501  \n",
       "97         0.486  \n",
       "98         0.490  \n",
       "99         0.507  "
      ]
     },
     "execution_count": 205,
     "metadata": {},
     "output_type": "execute_result"
    }
   ],
   "source": [
    "import matplotlib.pyplot as  plt\n",
    "import pandas as pd\n",
    "import numpy as np\n",
    "import string\n",
    "import math\n",
    "\n",
    "#Importamos el DF que exportamos previamente a csv en \"Cleaning_DS_v2\":\n",
    "DF_Jobs_and_Candidates = pd.read_csv('DF_Exportado_Jobs_And_Candidates.csv')\n",
    "DF_Jobs_and_Candidates.tail()"
   ]
  },
  {
   "cell_type": "code",
   "execution_count": 206,
   "id": "impaired-integer",
   "metadata": {},
   "outputs": [
    {
     "data": {
      "text/html": [
       "<div>\n",
       "<style scoped>\n",
       "    .dataframe tbody tr th:only-of-type {\n",
       "        vertical-align: middle;\n",
       "    }\n",
       "\n",
       "    .dataframe tbody tr th {\n",
       "        vertical-align: top;\n",
       "    }\n",
       "\n",
       "    .dataframe thead th {\n",
       "        text-align: right;\n",
       "    }\n",
       "</style>\n",
       "<table border=\"1\" class=\"dataframe\">\n",
       "  <thead>\n",
       "    <tr style=\"text-align: right;\">\n",
       "      <th></th>\n",
       "      <th>Candidate_Name</th>\n",
       "      <th>Job_Title</th>\n",
       "      <th>Cosine_Job_Desc</th>\n",
       "      <th>WMD_Job_Desc</th>\n",
       "    </tr>\n",
       "  </thead>\n",
       "  <tbody>\n",
       "    <tr>\n",
       "      <th>0</th>\n",
       "      <td>Data_Scientist_Karla_Lewis</td>\n",
       "      <td>Data Scientist</td>\n",
       "      <td>0.139</td>\n",
       "      <td>0.489</td>\n",
       "    </tr>\n",
       "    <tr>\n",
       "      <th>1</th>\n",
       "      <td>Data_Scientist_Karla_Lewis</td>\n",
       "      <td>Data Scientist 2</td>\n",
       "      <td>0.210</td>\n",
       "      <td>0.494</td>\n",
       "    </tr>\n",
       "    <tr>\n",
       "      <th>2</th>\n",
       "      <td>Data_Scientist_Karla_Lewis</td>\n",
       "      <td>HCM Consultant</td>\n",
       "      <td>0.085</td>\n",
       "      <td>0.480</td>\n",
       "    </tr>\n",
       "    <tr>\n",
       "      <th>3</th>\n",
       "      <td>Data_Scientist_Karla_Lewis</td>\n",
       "      <td>HCM Consultant 2</td>\n",
       "      <td>0.058</td>\n",
       "      <td>0.475</td>\n",
       "    </tr>\n",
       "    <tr>\n",
       "      <th>4</th>\n",
       "      <td>Data_Scientist_Karla_Lewis</td>\n",
       "      <td>Machine Learning Engineer</td>\n",
       "      <td>0.118</td>\n",
       "      <td>0.485</td>\n",
       "    </tr>\n",
       "    <tr>\n",
       "      <th>...</th>\n",
       "      <td>...</td>\n",
       "      <td>...</td>\n",
       "      <td>...</td>\n",
       "      <td>...</td>\n",
       "    </tr>\n",
       "    <tr>\n",
       "      <th>95</th>\n",
       "      <td>Web_Dev_Karen_Higgins</td>\n",
       "      <td>Machine Learning Engineer 2</td>\n",
       "      <td>0.158</td>\n",
       "      <td>0.496</td>\n",
       "    </tr>\n",
       "    <tr>\n",
       "      <th>96</th>\n",
       "      <td>Web_Dev_Karen_Higgins</td>\n",
       "      <td>Security Specialist</td>\n",
       "      <td>0.154</td>\n",
       "      <td>0.501</td>\n",
       "    </tr>\n",
       "    <tr>\n",
       "      <th>97</th>\n",
       "      <td>Web_Dev_Karen_Higgins</td>\n",
       "      <td>Security Specialist 2</td>\n",
       "      <td>0.115</td>\n",
       "      <td>0.486</td>\n",
       "    </tr>\n",
       "    <tr>\n",
       "      <th>98</th>\n",
       "      <td>Web_Dev_Karen_Higgins</td>\n",
       "      <td>Web Developer Full Stack</td>\n",
       "      <td>0.188</td>\n",
       "      <td>0.490</td>\n",
       "    </tr>\n",
       "    <tr>\n",
       "      <th>99</th>\n",
       "      <td>Web_Dev_Karen_Higgins</td>\n",
       "      <td>Web Developer Full Stack 2</td>\n",
       "      <td>0.204</td>\n",
       "      <td>0.507</td>\n",
       "    </tr>\n",
       "  </tbody>\n",
       "</table>\n",
       "<p>100 rows × 4 columns</p>\n",
       "</div>"
      ],
      "text/plain": [
       "                Candidate_Name                    Job_Title  Cosine_Job_Desc  \\\n",
       "0   Data_Scientist_Karla_Lewis               Data Scientist            0.139   \n",
       "1   Data_Scientist_Karla_Lewis             Data Scientist 2            0.210   \n",
       "2   Data_Scientist_Karla_Lewis               HCM Consultant            0.085   \n",
       "3   Data_Scientist_Karla_Lewis             HCM Consultant 2            0.058   \n",
       "4   Data_Scientist_Karla_Lewis    Machine Learning Engineer            0.118   \n",
       "..                         ...                          ...              ...   \n",
       "95       Web_Dev_Karen_Higgins  Machine Learning Engineer 2            0.158   \n",
       "96       Web_Dev_Karen_Higgins          Security Specialist            0.154   \n",
       "97       Web_Dev_Karen_Higgins        Security Specialist 2            0.115   \n",
       "98       Web_Dev_Karen_Higgins     Web Developer Full Stack            0.188   \n",
       "99       Web_Dev_Karen_Higgins   Web Developer Full Stack 2            0.204   \n",
       "\n",
       "    WMD_Job_Desc  \n",
       "0          0.489  \n",
       "1          0.494  \n",
       "2          0.480  \n",
       "3          0.475  \n",
       "4          0.485  \n",
       "..           ...  \n",
       "95         0.496  \n",
       "96         0.501  \n",
       "97         0.486  \n",
       "98         0.490  \n",
       "99         0.507  \n",
       "\n",
       "[100 rows x 4 columns]"
      ]
     },
     "execution_count": 206,
     "metadata": {},
     "output_type": "execute_result"
    }
   ],
   "source": [
    "#Nos quedamos con las columnas necesarias:\n",
    "DF_J_and_C = DF_Jobs_and_Candidates.loc[:, ['Candidate_Name', 'Job_Title', 'Cosine_Job_Desc', 'WMD_Job_Desc']]\n",
    "DF_J_and_C"
   ]
  },
  {
   "cell_type": "markdown",
   "id": "harmful-disaster",
   "metadata": {},
   "source": [
    "### Aplicamos k-means:"
   ]
  },
  {
   "cell_type": "code",
   "execution_count": 207,
   "id": "powered-boutique",
   "metadata": {},
   "outputs": [
    {
     "data": {
      "text/plain": [
       "array([1, 1, 1, 0, 0, 0], dtype=int32)"
      ]
     },
     "execution_count": 207,
     "metadata": {},
     "output_type": "execute_result"
    }
   ],
   "source": [
    "#1ro un ejemplo de kmeans (https://scikit-learn.org/stable/modules/generated/sklearn.cluster.KMeans.html):\n",
    "from sklearn.cluster import KMeans\n",
    "import numpy as np\n",
    "\n",
    "#Suponemos X nuestro DF con 2 features para entrenar KNN:\n",
    "#Por ejemplo 1,1,1,10,10,10 es uno de nuestros features.\n",
    "             #y 2,4,0,2,4,0 es el otro de nuestros features.\n",
    "X = np.array([[1, 2], [1, 4], [1, 0],[10, 2], [10, 4], [10, 0]])\n",
    "\n",
    "#Ahora entrenamos kmeans con 2 clusters (k = 2):\n",
    "kmeans = KMeans(n_clusters=2, random_state=0).fit(X)\n",
    "\n",
    "#Y luego de entrenarlo obtenemos nuestros labels (nuestros resultados: a qué k pertenece cada vector\n",
    "#que definimos arriba en \"X\")\n",
    "\n",
    "kmeans.labels_"
   ]
  },
  {
   "cell_type": "code",
   "execution_count": 208,
   "id": "aging-regard",
   "metadata": {},
   "outputs": [
    {
     "data": {
      "text/plain": [
       "array([1, 0], dtype=int32)"
      ]
     },
     "execution_count": 208,
     "metadata": {},
     "output_type": "execute_result"
    }
   ],
   "source": [
    "#Ahora vamos a predecir con nuevos 2 nuevos valores/vectores:\n",
    "kmeans.predict([[0, 0], [12, 3]])"
   ]
  },
  {
   "cell_type": "code",
   "execution_count": 209,
   "id": "herbal-height",
   "metadata": {},
   "outputs": [
    {
     "data": {
      "text/plain": [
       "array([[10.,  2.],\n",
       "       [ 1.,  2.]])"
      ]
     },
     "execution_count": 209,
     "metadata": {},
     "output_type": "execute_result"
    }
   ],
   "source": [
    "#Vemos la posición en X e Y de nuestros 2 centroides:\n",
    "kmeans.cluster_centers_"
   ]
  },
  {
   "cell_type": "markdown",
   "id": "broken-gates",
   "metadata": {},
   "source": [
    "### Ahora si, a nuestro ejemplo concreto:"
   ]
  },
  {
   "cell_type": "code",
   "execution_count": 210,
   "id": "elegant-overhead",
   "metadata": {},
   "outputs": [],
   "source": [
    "#Librerias:\n",
    "from pandas import DataFrame\n",
    "import matplotlib.pyplot as plt\n",
    "from sklearn.cluster import KMeans"
   ]
  },
  {
   "cell_type": "code",
   "execution_count": 211,
   "id": "blond-tissue",
   "metadata": {},
   "outputs": [],
   "source": [
    "#X y Y son nuestros FEATURES:\n",
    "X = np.array(DF_J_and_C[\"Cosine_Job_Desc\"])\n",
    "Y = np.array(DF_J_and_C['WMD_Job_Desc'])\n",
    "Y.shape\n",
    "\n",
    "Data = {'x': X,\n",
    "        'y': Y\n",
    "       }\n",
    "  \n",
    "df = DataFrame(Data,columns=['x','y'])"
   ]
  },
  {
   "cell_type": "code",
   "execution_count": 212,
   "id": "automatic-ebony",
   "metadata": {},
   "outputs": [
    {
     "name": "stdout",
     "output_type": "stream",
     "text": [
      "[[0.07241667 0.47875   ]\n",
      " [0.477      0.547     ]\n",
      " [0.18036    0.49808   ]\n",
      " [0.33042857 0.508     ]\n",
      " [0.12611111 0.48919444]]\n",
      "[4 2 0 0 4 4 0 0 0 0 2 2 0 0 4 4 0 0 0 0 2 2 3 1 2 4 4 0 0 4 4 0 2 3 4 4 4\n",
      " 0 4 4 1 1 2 2 1 1 2 4 2 4 3 1 2 2 1 1 2 4 4 2 4 4 4 2 2 0 3 3 0 2 0 4 4 4\n",
      " 2 4 3 3 4 0 0 0 0 4 4 4 4 0 2 4 4 4 4 4 2 2 2 4 2 2]\n"
     ]
    }
   ],
   "source": [
    "#Entrenamos Kmeans con todo nuestro DF:\n",
    "#(n_clusters=8, *, init='k-means++', n_init=10, max_iter=300, tol=0.0001, verbose=0, random_state=None, copy_x=True, algorithm='auto')[source]¶\n",
    "\n",
    "kmeans = KMeans(n_clusters=5).fit(df)\n",
    "centroids = kmeans.cluster_centers_\n",
    "print(centroids)\n",
    "print(kmeans.labels_)"
   ]
  },
  {
   "cell_type": "code",
   "execution_count": 213,
   "id": "attractive-stomach",
   "metadata": {},
   "outputs": [
    {
     "data": {
      "image/png": "[encoded data removed]",
      "text/plain": [
       "<Figure size 432x288 with 1 Axes>"
      ]
     },
     "metadata": {
      "needs_background": "light"
     },
     "output_type": "display_data"
    }
   ],
   "source": [
    "#Ploteamos los centroides de cada grupo:\n",
    "\n",
    "plt.scatter(df['x'], df['y'], c=kmeans.labels_.astype(float), s=50, alpha=0.5)\n",
    "plt.scatter(centroids[:, 0], centroids[:, 1], c='red', s=50, label = 'centroids')\n",
    "plt.show()"
   ]
  },
  {
   "cell_type": "code",
   "execution_count": 214,
   "id": "significant-smart",
   "metadata": {},
   "outputs": [
    {
     "data": {
      "image/png": "[encoded data removed]",
      "text/plain": [
       "<Figure size 432x288 with 1 Axes>"
      ]
     },
     "metadata": {
      "needs_background": "light"
     },
     "output_type": "display_data"
    }
   ],
   "source": [
    "#Ploteamos cada grupo:\n",
    "\n",
    "fig, ax = plt.subplots()\n",
    "scatter_x = np.array(DF_J_and_C[\"Cosine_Job_Desc\"])\n",
    "scatter_y = np.array(DF_J_and_C['WMD_Job_Desc'])\n",
    "group = np.array(kmeans.labels_)\n",
    "for g in np.unique(group):\n",
    "    i = np.where(group == g)\n",
    "    ax.scatter(scatter_x[i], scatter_y[i], label=g)\n",
    "ax.legend()\n",
    "plt.show()"
   ]
  },
  {
   "cell_type": "code",
   "execution_count": 215,
   "id": "handed-greensboro",
   "metadata": {},
   "outputs": [
    {
     "data": {
      "text/html": [
       "<div>\n",
       "<style scoped>\n",
       "    .dataframe tbody tr th:only-of-type {\n",
       "        vertical-align: middle;\n",
       "    }\n",
       "\n",
       "    .dataframe tbody tr th {\n",
       "        vertical-align: top;\n",
       "    }\n",
       "\n",
       "    .dataframe thead th {\n",
       "        text-align: right;\n",
       "    }\n",
       "</style>\n",
       "<table border=\"1\" class=\"dataframe\">\n",
       "  <thead>\n",
       "    <tr style=\"text-align: right;\">\n",
       "      <th></th>\n",
       "      <th>Candidate_Name</th>\n",
       "      <th>Job_Title</th>\n",
       "      <th>Cosine_Job_Desc</th>\n",
       "      <th>WMD_Job_Desc</th>\n",
       "      <th>Result K-means</th>\n",
       "    </tr>\n",
       "  </thead>\n",
       "  <tbody>\n",
       "    <tr>\n",
       "      <th>0</th>\n",
       "      <td>Data_Scientist_Karla_Lewis</td>\n",
       "      <td>Data Scientist</td>\n",
       "      <td>0.139</td>\n",
       "      <td>0.489</td>\n",
       "      <td>4</td>\n",
       "    </tr>\n",
       "    <tr>\n",
       "      <th>1</th>\n",
       "      <td>Data_Scientist_Karla_Lewis</td>\n",
       "      <td>Data Scientist 2</td>\n",
       "      <td>0.210</td>\n",
       "      <td>0.494</td>\n",
       "      <td>2</td>\n",
       "    </tr>\n",
       "    <tr>\n",
       "      <th>2</th>\n",
       "      <td>Data_Scientist_Karla_Lewis</td>\n",
       "      <td>HCM Consultant</td>\n",
       "      <td>0.085</td>\n",
       "      <td>0.480</td>\n",
       "      <td>0</td>\n",
       "    </tr>\n",
       "    <tr>\n",
       "      <th>3</th>\n",
       "      <td>Data_Scientist_Karla_Lewis</td>\n",
       "      <td>HCM Consultant 2</td>\n",
       "      <td>0.058</td>\n",
       "      <td>0.475</td>\n",
       "      <td>0</td>\n",
       "    </tr>\n",
       "    <tr>\n",
       "      <th>4</th>\n",
       "      <td>Data_Scientist_Karla_Lewis</td>\n",
       "      <td>Machine Learning Engineer</td>\n",
       "      <td>0.118</td>\n",
       "      <td>0.485</td>\n",
       "      <td>4</td>\n",
       "    </tr>\n",
       "    <tr>\n",
       "      <th>...</th>\n",
       "      <td>...</td>\n",
       "      <td>...</td>\n",
       "      <td>...</td>\n",
       "      <td>...</td>\n",
       "      <td>...</td>\n",
       "    </tr>\n",
       "    <tr>\n",
       "      <th>95</th>\n",
       "      <td>Web_Dev_Karen_Higgins</td>\n",
       "      <td>Machine Learning Engineer 2</td>\n",
       "      <td>0.158</td>\n",
       "      <td>0.496</td>\n",
       "      <td>2</td>\n",
       "    </tr>\n",
       "    <tr>\n",
       "      <th>96</th>\n",
       "      <td>Web_Dev_Karen_Higgins</td>\n",
       "      <td>Security Specialist</td>\n",
       "      <td>0.154</td>\n",
       "      <td>0.501</td>\n",
       "      <td>2</td>\n",
       "    </tr>\n",
       "    <tr>\n",
       "      <th>97</th>\n",
       "      <td>Web_Dev_Karen_Higgins</td>\n",
       "      <td>Security Specialist 2</td>\n",
       "      <td>0.115</td>\n",
       "      <td>0.486</td>\n",
       "      <td>4</td>\n",
       "    </tr>\n",
       "    <tr>\n",
       "      <th>98</th>\n",
       "      <td>Web_Dev_Karen_Higgins</td>\n",
       "      <td>Web Developer Full Stack</td>\n",
       "      <td>0.188</td>\n",
       "      <td>0.490</td>\n",
       "      <td>2</td>\n",
       "    </tr>\n",
       "    <tr>\n",
       "      <th>99</th>\n",
       "      <td>Web_Dev_Karen_Higgins</td>\n",
       "      <td>Web Developer Full Stack 2</td>\n",
       "      <td>0.204</td>\n",
       "      <td>0.507</td>\n",
       "      <td>2</td>\n",
       "    </tr>\n",
       "  </tbody>\n",
       "</table>\n",
       "<p>100 rows × 5 columns</p>\n",
       "</div>"
      ],
      "text/plain": [
       "                Candidate_Name                    Job_Title  Cosine_Job_Desc  \\\n",
       "0   Data_Scientist_Karla_Lewis               Data Scientist            0.139   \n",
       "1   Data_Scientist_Karla_Lewis             Data Scientist 2            0.210   \n",
       "2   Data_Scientist_Karla_Lewis               HCM Consultant            0.085   \n",
       "3   Data_Scientist_Karla_Lewis             HCM Consultant 2            0.058   \n",
       "4   Data_Scientist_Karla_Lewis    Machine Learning Engineer            0.118   \n",
       "..                         ...                          ...              ...   \n",
       "95       Web_Dev_Karen_Higgins  Machine Learning Engineer 2            0.158   \n",
       "96       Web_Dev_Karen_Higgins          Security Specialist            0.154   \n",
       "97       Web_Dev_Karen_Higgins        Security Specialist 2            0.115   \n",
       "98       Web_Dev_Karen_Higgins     Web Developer Full Stack            0.188   \n",
       "99       Web_Dev_Karen_Higgins   Web Developer Full Stack 2            0.204   \n",
       "\n",
       "    WMD_Job_Desc  Result K-means  \n",
       "0          0.489               4  \n",
       "1          0.494               2  \n",
       "2          0.480               0  \n",
       "3          0.475               0  \n",
       "4          0.485               4  \n",
       "..           ...             ...  \n",
       "95         0.496               2  \n",
       "96         0.501               2  \n",
       "97         0.486               4  \n",
       "98         0.490               2  \n",
       "99         0.507               2  \n",
       "\n",
       "[100 rows x 5 columns]"
      ]
     },
     "execution_count": 215,
     "metadata": {},
     "output_type": "execute_result"
    }
   ],
   "source": [
    "#Añadimos la columna al DF:\n",
    "new_column =  kmeans.labels_\n",
    "DF_J_and_C['Result K-means'] = new_column\n",
    "DF_J_and_C"
   ]
  },
  {
   "cell_type": "code",
   "execution_count": 217,
   "id": "sorted-manufacturer",
   "metadata": {},
   "outputs": [
    {
     "data": {
      "text/html": [
       "<div>\n",
       "<style scoped>\n",
       "    .dataframe tbody tr th:only-of-type {\n",
       "        vertical-align: middle;\n",
       "    }\n",
       "\n",
       "    .dataframe tbody tr th {\n",
       "        vertical-align: top;\n",
       "    }\n",
       "\n",
       "    .dataframe thead th {\n",
       "        text-align: right;\n",
       "    }\n",
       "</style>\n",
       "<table border=\"1\" class=\"dataframe\">\n",
       "  <thead>\n",
       "    <tr style=\"text-align: right;\">\n",
       "      <th></th>\n",
       "      <th>Candidate_Name</th>\n",
       "      <th>Job_Title</th>\n",
       "      <th>Cosine_Job_Desc</th>\n",
       "      <th>WMD_Job_Desc</th>\n",
       "      <th>Result K-means</th>\n",
       "    </tr>\n",
       "  </thead>\n",
       "  <tbody>\n",
       "    <tr>\n",
       "      <th>22</th>\n",
       "      <td>HCM_Federico_Calonge</td>\n",
       "      <td>HCM Consultant</td>\n",
       "      <td>0.370</td>\n",
       "      <td>0.495</td>\n",
       "      <td>3</td>\n",
       "    </tr>\n",
       "    <tr>\n",
       "      <th>23</th>\n",
       "      <td>HCM_Federico_Calonge</td>\n",
       "      <td>HCM Consultant 2</td>\n",
       "      <td>0.447</td>\n",
       "      <td>0.518</td>\n",
       "      <td>1</td>\n",
       "    </tr>\n",
       "    <tr>\n",
       "      <th>33</th>\n",
       "      <td>HCM_Robert_Smith</td>\n",
       "      <td>HCM Consultant 2</td>\n",
       "      <td>0.283</td>\n",
       "      <td>0.505</td>\n",
       "      <td>3</td>\n",
       "    </tr>\n",
       "    <tr>\n",
       "      <th>40</th>\n",
       "      <td>ML_Engineer_Bradly_Johnston</td>\n",
       "      <td>Data Scientist</td>\n",
       "      <td>0.408</td>\n",
       "      <td>0.546</td>\n",
       "      <td>1</td>\n",
       "    </tr>\n",
       "    <tr>\n",
       "      <th>41</th>\n",
       "      <td>ML_Engineer_Bradly_Johnston</td>\n",
       "      <td>Data Scientist 2</td>\n",
       "      <td>0.501</td>\n",
       "      <td>0.551</td>\n",
       "      <td>1</td>\n",
       "    </tr>\n",
       "    <tr>\n",
       "      <th>44</th>\n",
       "      <td>ML_Engineer_Bradly_Johnston</td>\n",
       "      <td>Machine Learning Engineer</td>\n",
       "      <td>0.478</td>\n",
       "      <td>0.556</td>\n",
       "      <td>1</td>\n",
       "    </tr>\n",
       "    <tr>\n",
       "      <th>45</th>\n",
       "      <td>ML_Engineer_Bradly_Johnston</td>\n",
       "      <td>Machine Learning Engineer 2</td>\n",
       "      <td>0.527</td>\n",
       "      <td>0.553</td>\n",
       "      <td>1</td>\n",
       "    </tr>\n",
       "    <tr>\n",
       "      <th>50</th>\n",
       "      <td>ML_Engineer_Jonathon_Price</td>\n",
       "      <td>Data Scientist</td>\n",
       "      <td>0.371</td>\n",
       "      <td>0.540</td>\n",
       "      <td>3</td>\n",
       "    </tr>\n",
       "    <tr>\n",
       "      <th>51</th>\n",
       "      <td>ML_Engineer_Jonathon_Price</td>\n",
       "      <td>Data Scientist 2</td>\n",
       "      <td>0.513</td>\n",
       "      <td>0.551</td>\n",
       "      <td>1</td>\n",
       "    </tr>\n",
       "    <tr>\n",
       "      <th>54</th>\n",
       "      <td>ML_Engineer_Jonathon_Price</td>\n",
       "      <td>Machine Learning Engineer</td>\n",
       "      <td>0.475</td>\n",
       "      <td>0.552</td>\n",
       "      <td>1</td>\n",
       "    </tr>\n",
       "    <tr>\n",
       "      <th>55</th>\n",
       "      <td>ML_Engineer_Jonathon_Price</td>\n",
       "      <td>Machine Learning Engineer 2</td>\n",
       "      <td>0.467</td>\n",
       "      <td>0.549</td>\n",
       "      <td>1</td>\n",
       "    </tr>\n",
       "    <tr>\n",
       "      <th>66</th>\n",
       "      <td>Security_Specialist_Ahmed Wayne</td>\n",
       "      <td>Security Specialist</td>\n",
       "      <td>0.314</td>\n",
       "      <td>0.510</td>\n",
       "      <td>3</td>\n",
       "    </tr>\n",
       "    <tr>\n",
       "      <th>67</th>\n",
       "      <td>Security_Specialist_Ahmed Wayne</td>\n",
       "      <td>Security Specialist 2</td>\n",
       "      <td>0.281</td>\n",
       "      <td>0.495</td>\n",
       "      <td>3</td>\n",
       "    </tr>\n",
       "    <tr>\n",
       "      <th>76</th>\n",
       "      <td>Security_Specialist_Denis Banik</td>\n",
       "      <td>Security Specialist</td>\n",
       "      <td>0.345</td>\n",
       "      <td>0.507</td>\n",
       "      <td>3</td>\n",
       "    </tr>\n",
       "    <tr>\n",
       "      <th>77</th>\n",
       "      <td>Security_Specialist_Denis Banik</td>\n",
       "      <td>Security Specialist 2</td>\n",
       "      <td>0.349</td>\n",
       "      <td>0.504</td>\n",
       "      <td>3</td>\n",
       "    </tr>\n",
       "  </tbody>\n",
       "</table>\n",
       "</div>"
      ],
      "text/plain": [
       "                     Candidate_Name                    Job_Title  \\\n",
       "22             HCM_Federico_Calonge               HCM Consultant   \n",
       "23             HCM_Federico_Calonge             HCM Consultant 2   \n",
       "33                 HCM_Robert_Smith             HCM Consultant 2   \n",
       "40      ML_Engineer_Bradly_Johnston               Data Scientist   \n",
       "41      ML_Engineer_Bradly_Johnston             Data Scientist 2   \n",
       "44      ML_Engineer_Bradly_Johnston    Machine Learning Engineer   \n",
       "45      ML_Engineer_Bradly_Johnston  Machine Learning Engineer 2   \n",
       "50       ML_Engineer_Jonathon_Price               Data Scientist   \n",
       "51       ML_Engineer_Jonathon_Price             Data Scientist 2   \n",
       "54       ML_Engineer_Jonathon_Price    Machine Learning Engineer   \n",
       "55       ML_Engineer_Jonathon_Price  Machine Learning Engineer 2   \n",
       "66  Security_Specialist_Ahmed Wayne          Security Specialist   \n",
       "67  Security_Specialist_Ahmed Wayne        Security Specialist 2   \n",
       "76  Security_Specialist_Denis Banik          Security Specialist   \n",
       "77  Security_Specialist_Denis Banik        Security Specialist 2   \n",
       "\n",
       "    Cosine_Job_Desc  WMD_Job_Desc  Result K-means  \n",
       "22            0.370         0.495               3  \n",
       "23            0.447         0.518               1  \n",
       "33            0.283         0.505               3  \n",
       "40            0.408         0.546               1  \n",
       "41            0.501         0.551               1  \n",
       "44            0.478         0.556               1  \n",
       "45            0.527         0.553               1  \n",
       "50            0.371         0.540               3  \n",
       "51            0.513         0.551               1  \n",
       "54            0.475         0.552               1  \n",
       "55            0.467         0.549               1  \n",
       "66            0.314         0.510               3  \n",
       "67            0.281         0.495               3  \n",
       "76            0.345         0.507               3  \n",
       "77            0.349         0.504               3  "
      ]
     },
     "execution_count": 217,
     "metadata": {},
     "output_type": "execute_result"
    }
   ],
   "source": [
    "DF_J_and_C.tail(20)\n",
    "\n",
    "new_df =  DF_J_and_C[(DF_J_and_C['Result K-means']==3) | (DF_J_and_C['Result K-means']==1)]\n",
    "new_df"
   ]
  },
  {
   "cell_type": "markdown",
   "id": "practical-temple",
   "metadata": {},
   "source": [
    "### K-means aplicado solo para Data Scientist:"
   ]
  },
  {
   "cell_type": "markdown",
   "id": "coupled-sword",
   "metadata": {},
   "source": [
    "##### 1-Armado DF con Job Description =  Data Scientist para 9 candidatos a excepción de Web_Dev_Karen_Higgins."
   ]
  },
  {
   "cell_type": "code",
   "execution_count": 218,
   "id": "subsequent-alignment",
   "metadata": {},
   "outputs": [
    {
     "data": {
      "text/html": [
       "<div>\n",
       "<style scoped>\n",
       "    .dataframe tbody tr th:only-of-type {\n",
       "        vertical-align: middle;\n",
       "    }\n",
       "\n",
       "    .dataframe tbody tr th {\n",
       "        vertical-align: top;\n",
       "    }\n",
       "\n",
       "    .dataframe thead th {\n",
       "        text-align: right;\n",
       "    }\n",
       "</style>\n",
       "<table border=\"1\" class=\"dataframe\">\n",
       "  <thead>\n",
       "    <tr style=\"text-align: right;\">\n",
       "      <th></th>\n",
       "      <th>Candidate_Name</th>\n",
       "      <th>Job_Title</th>\n",
       "      <th>Cosine_Job_Desc</th>\n",
       "      <th>WMD_Job_Desc</th>\n",
       "      <th>Result K-means</th>\n",
       "    </tr>\n",
       "  </thead>\n",
       "  <tbody>\n",
       "    <tr>\n",
       "      <th>0</th>\n",
       "      <td>Data_Scientist_Karla_Lewis</td>\n",
       "      <td>Data Scientist</td>\n",
       "      <td>0.139</td>\n",
       "      <td>0.489</td>\n",
       "      <td>4</td>\n",
       "    </tr>\n",
       "    <tr>\n",
       "      <th>10</th>\n",
       "      <td>Data_Scientist_Rahul_Malik</td>\n",
       "      <td>Data Scientist</td>\n",
       "      <td>0.160</td>\n",
       "      <td>0.491</td>\n",
       "      <td>2</td>\n",
       "    </tr>\n",
       "    <tr>\n",
       "      <th>20</th>\n",
       "      <td>HCM_Federico_Calonge</td>\n",
       "      <td>Data Scientist</td>\n",
       "      <td>0.161</td>\n",
       "      <td>0.491</td>\n",
       "      <td>2</td>\n",
       "    </tr>\n",
       "    <tr>\n",
       "      <th>30</th>\n",
       "      <td>HCM_Robert_Smith</td>\n",
       "      <td>Data Scientist</td>\n",
       "      <td>0.136</td>\n",
       "      <td>0.486</td>\n",
       "      <td>4</td>\n",
       "    </tr>\n",
       "    <tr>\n",
       "      <th>40</th>\n",
       "      <td>ML_Engineer_Bradly_Johnston</td>\n",
       "      <td>Data Scientist</td>\n",
       "      <td>0.408</td>\n",
       "      <td>0.546</td>\n",
       "      <td>1</td>\n",
       "    </tr>\n",
       "    <tr>\n",
       "      <th>50</th>\n",
       "      <td>ML_Engineer_Jonathon_Price</td>\n",
       "      <td>Data Scientist</td>\n",
       "      <td>0.371</td>\n",
       "      <td>0.540</td>\n",
       "      <td>3</td>\n",
       "    </tr>\n",
       "    <tr>\n",
       "      <th>60</th>\n",
       "      <td>Security_Specialist_Ahmed Wayne</td>\n",
       "      <td>Data Scientist</td>\n",
       "      <td>0.126</td>\n",
       "      <td>0.482</td>\n",
       "      <td>4</td>\n",
       "    </tr>\n",
       "    <tr>\n",
       "      <th>70</th>\n",
       "      <td>Security_Specialist_Denis Banik</td>\n",
       "      <td>Data Scientist</td>\n",
       "      <td>0.088</td>\n",
       "      <td>0.491</td>\n",
       "      <td>0</td>\n",
       "    </tr>\n",
       "    <tr>\n",
       "      <th>80</th>\n",
       "      <td>Web_Dev_Alec_Dionisio</td>\n",
       "      <td>Data Scientist</td>\n",
       "      <td>0.090</td>\n",
       "      <td>0.485</td>\n",
       "      <td>0</td>\n",
       "    </tr>\n",
       "  </tbody>\n",
       "</table>\n",
       "</div>"
      ],
      "text/plain": [
       "                     Candidate_Name       Job_Title  Cosine_Job_Desc  \\\n",
       "0        Data_Scientist_Karla_Lewis  Data Scientist            0.139   \n",
       "10       Data_Scientist_Rahul_Malik  Data Scientist            0.160   \n",
       "20             HCM_Federico_Calonge  Data Scientist            0.161   \n",
       "30                 HCM_Robert_Smith  Data Scientist            0.136   \n",
       "40      ML_Engineer_Bradly_Johnston  Data Scientist            0.408   \n",
       "50       ML_Engineer_Jonathon_Price  Data Scientist            0.371   \n",
       "60  Security_Specialist_Ahmed Wayne  Data Scientist            0.126   \n",
       "70  Security_Specialist_Denis Banik  Data Scientist            0.088   \n",
       "80            Web_Dev_Alec_Dionisio  Data Scientist            0.090   \n",
       "\n",
       "    WMD_Job_Desc  Result K-means  \n",
       "0          0.489               4  \n",
       "10         0.491               2  \n",
       "20         0.491               2  \n",
       "30         0.486               4  \n",
       "40         0.546               1  \n",
       "50         0.540               3  \n",
       "60         0.482               4  \n",
       "70         0.491               0  \n",
       "80         0.485               0  "
      ]
     },
     "execution_count": 218,
     "metadata": {},
     "output_type": "execute_result"
    }
   ],
   "source": [
    "#Filtramos solo a la Candidata Karla Lewis:\n",
    "new_df =  DF_J_and_C[(DF_J_and_C['Job_Title']=='Data Scientist') & (DF_J_and_C['Candidate_Name']!='Web_Dev_Karen_Higgins')]\n",
    "new_df"
   ]
  },
  {
   "cell_type": "code",
   "execution_count": 219,
   "id": "comprehensive-residence",
   "metadata": {},
   "outputs": [],
   "source": [
    "#X y Y son nuestros FEATURES:\n",
    "X = np.array(new_df[\"Cosine_Job_Desc\"])\n",
    "Y = np.array(new_df['WMD_Job_Desc'])\n",
    "Y.shape\n",
    "\n",
    "Data = {'x': X,\n",
    "        'y': Y\n",
    "       }\n",
    "  \n",
    "df = DataFrame(Data,columns=['x','y'])"
   ]
  },
  {
   "cell_type": "code",
   "execution_count": 220,
   "id": "informal-shame",
   "metadata": {},
   "outputs": [
    {
     "name": "stdout",
     "output_type": "stream",
     "text": [
      "[[0.1444 0.4878]\n",
      " [0.3895 0.543 ]\n",
      " [0.089  0.488 ]]\n",
      "[0 0 0 0 1 1 0 2 2]\n"
     ]
    }
   ],
   "source": [
    "#Entrenamos Kmeans con todo nuestro DF:\n",
    "kmeans = KMeans(n_clusters=3).fit(df)\n",
    "centroids = kmeans.cluster_centers_\n",
    "print(centroids)\n",
    "print(kmeans.labels_)"
   ]
  },
  {
   "cell_type": "code",
   "execution_count": 221,
   "id": "included-bahrain",
   "metadata": {},
   "outputs": [
    {
     "data": {
      "image/png": "[encoded data removed]",
      "text/plain": [
       "<Figure size 432x288 with 1 Axes>"
      ]
     },
     "metadata": {
      "needs_background": "light"
     },
     "output_type": "display_data"
    }
   ],
   "source": [
    "#Ploteamos los centroides de cada grupo:\n",
    "plt.scatter(df['x'], df['y'], c=kmeans.labels_.astype(float), s=50, alpha=0.5)\n",
    "plt.scatter(centroids[:, 0], centroids[:, 1], c='red', s=50)\n",
    "plt.show()"
   ]
  },
  {
   "cell_type": "code",
   "execution_count": 223,
   "id": "blessed-incentive",
   "metadata": {},
   "outputs": [
    {
     "data": {
      "image/png": "[encoded data removed]",
      "text/plain": [
       "<Figure size 432x288 with 1 Axes>"
      ]
     },
     "metadata": {
      "needs_background": "light"
     },
     "output_type": "display_data"
    }
   ],
   "source": [
    "#Ploteamos cada grupo:\n",
    "\n",
    "fig, ax = plt.subplots()\n",
    "scatter_x = np.array(new_df[\"Cosine_Job_Desc\"])\n",
    "scatter_y = np.array(new_df['WMD_Job_Desc'])\n",
    "group = np.array(kmeans.labels_)\n",
    "for g in np.unique(group):\n",
    "    i = np.where(group == g)\n",
    "    ax.scatter(scatter_x[i], scatter_y[i], label=g)\n",
    "ax.legend()\n",
    "plt.show()"
   ]
  },
  {
   "cell_type": "code",
   "execution_count": 224,
   "id": "essential-sullivan",
   "metadata": {},
   "outputs": [
    {
     "name": "stderr",
     "output_type": "stream",
     "text": [
      "<ipython-input-224-f4b4b7017287>:3: SettingWithCopyWarning: \n",
      "A value is trying to be set on a copy of a slice from a DataFrame.\n",
      "Try using .loc[row_indexer,col_indexer] = value instead\n",
      "\n",
      "See the caveats in the documentation: https://pandas.pydata.org/pandas-docs/stable/user_guide/indexing.html#returning-a-view-versus-a-copy\n",
      "  new_df['Result K-means'] = new_column\n"
     ]
    },
    {
     "data": {
      "text/html": [
       "<div>\n",
       "<style scoped>\n",
       "    .dataframe tbody tr th:only-of-type {\n",
       "        vertical-align: middle;\n",
       "    }\n",
       "\n",
       "    .dataframe tbody tr th {\n",
       "        vertical-align: top;\n",
       "    }\n",
       "\n",
       "    .dataframe thead th {\n",
       "        text-align: right;\n",
       "    }\n",
       "</style>\n",
       "<table border=\"1\" class=\"dataframe\">\n",
       "  <thead>\n",
       "    <tr style=\"text-align: right;\">\n",
       "      <th></th>\n",
       "      <th>Candidate_Name</th>\n",
       "      <th>Job_Title</th>\n",
       "      <th>Cosine_Job_Desc</th>\n",
       "      <th>WMD_Job_Desc</th>\n",
       "      <th>Result K-means</th>\n",
       "    </tr>\n",
       "  </thead>\n",
       "  <tbody>\n",
       "    <tr>\n",
       "      <th>0</th>\n",
       "      <td>Data_Scientist_Karla_Lewis</td>\n",
       "      <td>Data Scientist</td>\n",
       "      <td>0.139</td>\n",
       "      <td>0.489</td>\n",
       "      <td>0</td>\n",
       "    </tr>\n",
       "    <tr>\n",
       "      <th>10</th>\n",
       "      <td>Data_Scientist_Rahul_Malik</td>\n",
       "      <td>Data Scientist</td>\n",
       "      <td>0.160</td>\n",
       "      <td>0.491</td>\n",
       "      <td>0</td>\n",
       "    </tr>\n",
       "    <tr>\n",
       "      <th>20</th>\n",
       "      <td>HCM_Federico_Calonge</td>\n",
       "      <td>Data Scientist</td>\n",
       "      <td>0.161</td>\n",
       "      <td>0.491</td>\n",
       "      <td>0</td>\n",
       "    </tr>\n",
       "    <tr>\n",
       "      <th>30</th>\n",
       "      <td>HCM_Robert_Smith</td>\n",
       "      <td>Data Scientist</td>\n",
       "      <td>0.136</td>\n",
       "      <td>0.486</td>\n",
       "      <td>0</td>\n",
       "    </tr>\n",
       "    <tr>\n",
       "      <th>40</th>\n",
       "      <td>ML_Engineer_Bradly_Johnston</td>\n",
       "      <td>Data Scientist</td>\n",
       "      <td>0.408</td>\n",
       "      <td>0.546</td>\n",
       "      <td>1</td>\n",
       "    </tr>\n",
       "    <tr>\n",
       "      <th>50</th>\n",
       "      <td>ML_Engineer_Jonathon_Price</td>\n",
       "      <td>Data Scientist</td>\n",
       "      <td>0.371</td>\n",
       "      <td>0.540</td>\n",
       "      <td>1</td>\n",
       "    </tr>\n",
       "    <tr>\n",
       "      <th>60</th>\n",
       "      <td>Security_Specialist_Ahmed Wayne</td>\n",
       "      <td>Data Scientist</td>\n",
       "      <td>0.126</td>\n",
       "      <td>0.482</td>\n",
       "      <td>0</td>\n",
       "    </tr>\n",
       "    <tr>\n",
       "      <th>70</th>\n",
       "      <td>Security_Specialist_Denis Banik</td>\n",
       "      <td>Data Scientist</td>\n",
       "      <td>0.088</td>\n",
       "      <td>0.491</td>\n",
       "      <td>2</td>\n",
       "    </tr>\n",
       "    <tr>\n",
       "      <th>80</th>\n",
       "      <td>Web_Dev_Alec_Dionisio</td>\n",
       "      <td>Data Scientist</td>\n",
       "      <td>0.090</td>\n",
       "      <td>0.485</td>\n",
       "      <td>2</td>\n",
       "    </tr>\n",
       "  </tbody>\n",
       "</table>\n",
       "</div>"
      ],
      "text/plain": [
       "                     Candidate_Name       Job_Title  Cosine_Job_Desc  \\\n",
       "0        Data_Scientist_Karla_Lewis  Data Scientist            0.139   \n",
       "10       Data_Scientist_Rahul_Malik  Data Scientist            0.160   \n",
       "20             HCM_Federico_Calonge  Data Scientist            0.161   \n",
       "30                 HCM_Robert_Smith  Data Scientist            0.136   \n",
       "40      ML_Engineer_Bradly_Johnston  Data Scientist            0.408   \n",
       "50       ML_Engineer_Jonathon_Price  Data Scientist            0.371   \n",
       "60  Security_Specialist_Ahmed Wayne  Data Scientist            0.126   \n",
       "70  Security_Specialist_Denis Banik  Data Scientist            0.088   \n",
       "80            Web_Dev_Alec_Dionisio  Data Scientist            0.090   \n",
       "\n",
       "    WMD_Job_Desc  Result K-means  \n",
       "0          0.489               0  \n",
       "10         0.491               0  \n",
       "20         0.491               0  \n",
       "30         0.486               0  \n",
       "40         0.546               1  \n",
       "50         0.540               1  \n",
       "60         0.482               0  \n",
       "70         0.491               2  \n",
       "80         0.485               2  "
      ]
     },
     "execution_count": 224,
     "metadata": {},
     "output_type": "execute_result"
    }
   ],
   "source": [
    "#Añadimos la columna al DF:\n",
    "new_column =  kmeans.labels_\n",
    "new_df['Result K-means'] = new_column\n",
    "new_df"
   ]
  },
  {
   "cell_type": "code",
   "execution_count": 225,
   "id": "olympic-backing",
   "metadata": {
    "scrolled": false
   },
   "outputs": [
    {
     "name": "stderr",
     "output_type": "stream",
     "text": [
      "/home/fedricio/anaconda3/lib/python3.8/site-packages/seaborn/_decorators.py:36: FutureWarning: Pass the following variable as a keyword arg: x. From version 0.12, the only valid positional argument will be `data`, and passing other arguments without an explicit keyword will result in an error or misinterpretation.\n",
      "  warnings.warn(\n"
     ]
    },
    {
     "data": {
      "image/png": "[encoded data removed]",
      "text/plain": [
       "<Figure size 720x576 with 1 Axes>"
      ]
     },
     "metadata": {
      "needs_background": "light"
     },
     "output_type": "display_data"
    }
   ],
   "source": [
    "#Vemos la cantidad de \"Result K-means\" para los Candidatos:\n",
    "import seaborn as sns\n",
    "plt.figure(figsize = (10,8))\n",
    "sns.countplot(new_df['Result K-means'])\n",
    "plt.show()"
   ]
  },
  {
   "cell_type": "markdown",
   "id": "severe-pride",
   "metadata": {},
   "source": [
    "## 2-Aplicando KNN."
   ]
  },
  {
   "cell_type": "code",
   "execution_count": 229,
   "id": "bridal-lodge",
   "metadata": {},
   "outputs": [],
   "source": [
    "#En X colocamos únicamente las features numéricas 'Cosine_Job_Desc' y 'WMD_Job_Desc' para predecir la variable Y.\n",
    "x_data = DF_J_and_C.drop([\"Candidate_Name\",\"Job_Title\",\"Result K-means\"],axis=1)\n",
    "\n",
    "#En Y colocaremos nuestra variable a predecir / nuestro \"target\", 'Result K-means':\n",
    "y = DF_J_and_C['Result K-means']"
   ]
  },
  {
   "cell_type": "code",
   "execution_count": 230,
   "id": "urban-hands",
   "metadata": {},
   "outputs": [
    {
     "data": {
      "text/html": [
       "<div>\n",
       "<style scoped>\n",
       "    .dataframe tbody tr th:only-of-type {\n",
       "        vertical-align: middle;\n",
       "    }\n",
       "\n",
       "    .dataframe tbody tr th {\n",
       "        vertical-align: top;\n",
       "    }\n",
       "\n",
       "    .dataframe thead th {\n",
       "        text-align: right;\n",
       "    }\n",
       "</style>\n",
       "<table border=\"1\" class=\"dataframe\">\n",
       "  <thead>\n",
       "    <tr style=\"text-align: right;\">\n",
       "      <th></th>\n",
       "      <th>Cosine_Job_Desc</th>\n",
       "      <th>WMD_Job_Desc</th>\n",
       "    </tr>\n",
       "  </thead>\n",
       "  <tbody>\n",
       "    <tr>\n",
       "      <th>0</th>\n",
       "      <td>0.139</td>\n",
       "      <td>0.489</td>\n",
       "    </tr>\n",
       "    <tr>\n",
       "      <th>1</th>\n",
       "      <td>0.210</td>\n",
       "      <td>0.494</td>\n",
       "    </tr>\n",
       "    <tr>\n",
       "      <th>2</th>\n",
       "      <td>0.085</td>\n",
       "      <td>0.480</td>\n",
       "    </tr>\n",
       "    <tr>\n",
       "      <th>3</th>\n",
       "      <td>0.058</td>\n",
       "      <td>0.475</td>\n",
       "    </tr>\n",
       "    <tr>\n",
       "      <th>4</th>\n",
       "      <td>0.118</td>\n",
       "      <td>0.485</td>\n",
       "    </tr>\n",
       "    <tr>\n",
       "      <th>...</th>\n",
       "      <td>...</td>\n",
       "      <td>...</td>\n",
       "    </tr>\n",
       "    <tr>\n",
       "      <th>95</th>\n",
       "      <td>0.158</td>\n",
       "      <td>0.496</td>\n",
       "    </tr>\n",
       "    <tr>\n",
       "      <th>96</th>\n",
       "      <td>0.154</td>\n",
       "      <td>0.501</td>\n",
       "    </tr>\n",
       "    <tr>\n",
       "      <th>97</th>\n",
       "      <td>0.115</td>\n",
       "      <td>0.486</td>\n",
       "    </tr>\n",
       "    <tr>\n",
       "      <th>98</th>\n",
       "      <td>0.188</td>\n",
       "      <td>0.490</td>\n",
       "    </tr>\n",
       "    <tr>\n",
       "      <th>99</th>\n",
       "      <td>0.204</td>\n",
       "      <td>0.507</td>\n",
       "    </tr>\n",
       "  </tbody>\n",
       "</table>\n",
       "<p>100 rows × 2 columns</p>\n",
       "</div>"
      ],
      "text/plain": [
       "    Cosine_Job_Desc  WMD_Job_Desc\n",
       "0             0.139         0.489\n",
       "1             0.210         0.494\n",
       "2             0.085         0.480\n",
       "3             0.058         0.475\n",
       "4             0.118         0.485\n",
       "..              ...           ...\n",
       "95            0.158         0.496\n",
       "96            0.154         0.501\n",
       "97            0.115         0.486\n",
       "98            0.188         0.490\n",
       "99            0.204         0.507\n",
       "\n",
       "[100 rows x 2 columns]"
      ]
     },
     "execution_count": 230,
     "metadata": {},
     "output_type": "execute_result"
    }
   ],
   "source": [
    "x_data"
   ]
  },
  {
   "cell_type": "code",
   "execution_count": 231,
   "id": "gentle-mother",
   "metadata": {},
   "outputs": [
    {
     "data": {
      "text/plain": [
       "0     4\n",
       "1     2\n",
       "2     0\n",
       "3     0\n",
       "4     4\n",
       "     ..\n",
       "95    2\n",
       "96    2\n",
       "97    4\n",
       "98    2\n",
       "99    2\n",
       "Name: Result K-means, Length: 100, dtype: int32"
      ]
     },
     "execution_count": 231,
     "metadata": {},
     "output_type": "execute_result"
    }
   ],
   "source": [
    "y"
   ]
  },
  {
   "cell_type": "code",
   "execution_count": 232,
   "id": "leading-portland",
   "metadata": {},
   "outputs": [],
   "source": [
    "#KNN librerias:\n",
    "from sklearn.model_selection import train_test_split\n",
    "from sklearn.neighbors import KNeighborsClassifier\n",
    "from sklearn import metrics\n",
    "\n",
    "#Entrenamiento... separamos 20% test y 80% para entrenamiento:\n",
    "X_train,X_test,y_train,y_test = train_test_split(x_data,y,test_size=0.2,random_state=4)"
   ]
  },
  {
   "cell_type": "code",
   "execution_count": 233,
   "id": "british-saying",
   "metadata": {},
   "outputs": [],
   "source": [
    "#seleccionar el K óptimo para utilizar nuestro algoritmo. Para esto entrenamos al algoritmo K veces \n",
    "#y nos quedamos con el modelo que nos dé la mejor predicción (el mejor score).\n",
    "\n",
    "#Como vimos previamente, dependiendo del valor de K el algoritmo se compartaba de mejor o peor manera. \n",
    "#Vamos a realizar un barrido para los distintos valores de K (del 1 al 25).\n",
    "#Y así, para cada uno de estos valores de K vamos a entrenar al algoritmo y así vamos a obtener la exactitud/score del algoritmo:\n",
    "\n",
    "k_range = range(1,8) #Valores de K (1-25)\n",
    "scores = {}\n",
    "scores_list = []\n",
    "for k in k_range:\n",
    "        knn = KNeighborsClassifier(n_neighbors=k) #Llamamos al modelo de clasificación (KNN) y le pasamos cada valor de K. \n",
    "        knn.fit(X_train,y_train) #Se va a entrenar al algorimo para ese K con los x_train e Y_train que elegimos previamente.\n",
    "        y_pred=knn.predict(X_test) #Y ahora hacemos una predicción con los X_Test... lo mismo que haciamos con RL.\n",
    "        scores[k] = metrics.accuracy_score(y_test,y_pred) #Después calculamos y guardamos el score de esa predicción con ese valor de K.\n",
    "        scores_list.append(scores[k]) #Y esa predicción la metemos en una lista."
   ]
  },
  {
   "cell_type": "code",
   "execution_count": 234,
   "id": "pacific-booking",
   "metadata": {},
   "outputs": [
    {
     "data": {
      "text/plain": [
       "Text(0, 0.5, 'Testing Accuracy')"
      ]
     },
     "execution_count": 234,
     "metadata": {},
     "output_type": "execute_result"
    },
    {
     "data": {
      "image/png": "[encoded data removed]",
      "text/plain": [
       "<Figure size 432x288 with 1 Axes>"
      ]
     },
     "metadata": {
      "needs_background": "light"
     },
     "output_type": "display_data"
    }
   ],
   "source": [
    "#Ahora graficamos y vemos la relación entre los K y la exactitud/score del algoritmo:\n",
    "plt.plot(k_range,scores_list)\n",
    "plt.xlabel('Value of K for KNN')\n",
    "plt.ylabel('Testing Accuracy')"
   ]
  },
  {
   "cell_type": "code",
   "execution_count": 236,
   "id": "municipal-contractor",
   "metadata": {},
   "outputs": [],
   "source": [
    "#Elegimos un K=2 ya que vemos que allí la eficiencia es del 0,95% (Alta) y nuestro algoritmo predecirá bien."
   ]
  },
  {
   "cell_type": "markdown",
   "id": "voluntary-deficit",
   "metadata": {},
   "source": [
    "### Entrenamos al algoritmo de KNN con un K óptimo (K=2)"
   ]
  },
  {
   "cell_type": "code",
   "execution_count": 237,
   "id": "qualified-making",
   "metadata": {},
   "outputs": [
    {
     "name": "stdout",
     "output_type": "stream",
     "text": [
      "Precisión de KNN con K optimo: 0.95\n"
     ]
    }
   ],
   "source": [
    "k_Optimo=2\n",
    "knn = KNeighborsClassifier(n_neighbors=k_Optimo) #Le asignamos este k=2.\n",
    "knn.fit(X_train,y_train) #Se va a entrenar al algorimo para ese K=2 con los x_train\n",
    "#e Y_train que elegimos previamente.\n",
    "y_pred=knn.predict(X_test) #Y ahora hacemos una predicción con los X_Test.\n",
    "score = metrics.accuracy_score(y_test,y_pred) #Cálculo del score para k=2\n",
    "\n",
    "print(\"Precisión de KNN con K optimo:\",score) #printeamos el score."
   ]
  },
  {
   "cell_type": "markdown",
   "id": "better-chaos",
   "metadata": {},
   "source": [
    "##### 3-¿Qué pasa al añadir un nuevo Candidato (Web_Dev_Karen_Higgins)? ¿Qué se tiene que volver a calcular?"
   ]
  },
  {
   "cell_type": "code",
   "execution_count": 240,
   "id": "occasional-sharing",
   "metadata": {},
   "outputs": [],
   "source": [
    "#Al agregar un nuevo candidato (aplica al puesto) se calcula el WMD y Cosine y se PREDICE con este modelo de KNN. \n",
    "#En esta predicción te clasifica de acuerdo a las 5 categorías que creamos con k-means."
   ]
  },
  {
   "cell_type": "markdown",
   "id": "accessory-madrid",
   "metadata": {},
   "source": [
    "##### 4-¿Qué pasa al añadir un nuevo Job Description (Data Scientist 2)? ¿Qué se tiene que volver a calcular?"
   ]
  },
  {
   "cell_type": "code",
   "execution_count": 238,
   "id": "dedicated-lesson",
   "metadata": {},
   "outputs": [],
   "source": [
    "#No pasa nada hasta que un Candidato aplica al puesto... y ahi pasa lo exṕlicado anteriormente en el punto 3 (justo arriba VER)"
   ]
  },
  {
   "cell_type": "markdown",
   "id": "superior-virgin",
   "metadata": {},
   "source": [
    "## 2-Aplicando KNN solo para Data Scientist."
   ]
  },
  {
   "cell_type": "code",
   "execution_count": 226,
   "id": "basic-pocket",
   "metadata": {},
   "outputs": [],
   "source": [
    "#En X colocamos únicamente las features numéricas 'Cosine_Job_Desc' y 'WMD_Job_Desc' para predecir la variable Y.\n",
    "x_data = new_df.drop([\"Candidate_Name\",\"Job_Title\",\"Result K-means\"],axis=1)\n",
    "\n",
    "#En Y colocaremos nuestra variable a predecir / nuestro \"target\", 'Result K-means':\n",
    "y = new_df['Result K-means']"
   ]
  },
  {
   "cell_type": "code",
   "execution_count": 227,
   "id": "progressive-leather",
   "metadata": {},
   "outputs": [
    {
     "data": {
      "text/html": [
       "<div>\n",
       "<style scoped>\n",
       "    .dataframe tbody tr th:only-of-type {\n",
       "        vertical-align: middle;\n",
       "    }\n",
       "\n",
       "    .dataframe tbody tr th {\n",
       "        vertical-align: top;\n",
       "    }\n",
       "\n",
       "    .dataframe thead th {\n",
       "        text-align: right;\n",
       "    }\n",
       "</style>\n",
       "<table border=\"1\" class=\"dataframe\">\n",
       "  <thead>\n",
       "    <tr style=\"text-align: right;\">\n",
       "      <th></th>\n",
       "      <th>Cosine_Job_Desc</th>\n",
       "      <th>WMD_Job_Desc</th>\n",
       "    </tr>\n",
       "  </thead>\n",
       "  <tbody>\n",
       "    <tr>\n",
       "      <th>0</th>\n",
       "      <td>0.139</td>\n",
       "      <td>0.489</td>\n",
       "    </tr>\n",
       "    <tr>\n",
       "      <th>10</th>\n",
       "      <td>0.160</td>\n",
       "      <td>0.491</td>\n",
       "    </tr>\n",
       "    <tr>\n",
       "      <th>20</th>\n",
       "      <td>0.161</td>\n",
       "      <td>0.491</td>\n",
       "    </tr>\n",
       "    <tr>\n",
       "      <th>30</th>\n",
       "      <td>0.136</td>\n",
       "      <td>0.486</td>\n",
       "    </tr>\n",
       "    <tr>\n",
       "      <th>40</th>\n",
       "      <td>0.408</td>\n",
       "      <td>0.546</td>\n",
       "    </tr>\n",
       "    <tr>\n",
       "      <th>50</th>\n",
       "      <td>0.371</td>\n",
       "      <td>0.540</td>\n",
       "    </tr>\n",
       "    <tr>\n",
       "      <th>60</th>\n",
       "      <td>0.126</td>\n",
       "      <td>0.482</td>\n",
       "    </tr>\n",
       "    <tr>\n",
       "      <th>70</th>\n",
       "      <td>0.088</td>\n",
       "      <td>0.491</td>\n",
       "    </tr>\n",
       "    <tr>\n",
       "      <th>80</th>\n",
       "      <td>0.090</td>\n",
       "      <td>0.485</td>\n",
       "    </tr>\n",
       "  </tbody>\n",
       "</table>\n",
       "</div>"
      ],
      "text/plain": [
       "    Cosine_Job_Desc  WMD_Job_Desc\n",
       "0             0.139         0.489\n",
       "10            0.160         0.491\n",
       "20            0.161         0.491\n",
       "30            0.136         0.486\n",
       "40            0.408         0.546\n",
       "50            0.371         0.540\n",
       "60            0.126         0.482\n",
       "70            0.088         0.491\n",
       "80            0.090         0.485"
      ]
     },
     "execution_count": 227,
     "metadata": {},
     "output_type": "execute_result"
    }
   ],
   "source": [
    "x_data"
   ]
  },
  {
   "cell_type": "code",
   "execution_count": 228,
   "id": "secondary-brazil",
   "metadata": {},
   "outputs": [
    {
     "data": {
      "text/plain": [
       "0     0\n",
       "10    0\n",
       "20    0\n",
       "30    0\n",
       "40    1\n",
       "50    1\n",
       "60    0\n",
       "70    2\n",
       "80    2\n",
       "Name: Result K-means, dtype: int32"
      ]
     },
     "execution_count": 228,
     "metadata": {},
     "output_type": "execute_result"
    }
   ],
   "source": [
    "y"
   ]
  },
  {
   "cell_type": "code",
   "execution_count": 175,
   "id": "attended-questionnaire",
   "metadata": {},
   "outputs": [],
   "source": [
    "#KNN librerias:\n",
    "from sklearn.model_selection import train_test_split\n",
    "from sklearn.neighbors import KNeighborsClassifier\n",
    "from sklearn import metrics\n",
    "\n",
    "#Entrenamiento... separamos 20% test y 80% para entrenamiento:\n",
    "X_train,X_test,y_train,y_test = train_test_split(x_data,y,test_size=0.2,random_state=4)"
   ]
  },
  {
   "cell_type": "code",
   "execution_count": 176,
   "id": "promotional-discovery",
   "metadata": {},
   "outputs": [],
   "source": [
    "#seleccionar el K óptimo para utilizar nuestro algoritmo. Para esto entrenamos al algoritmo K veces \n",
    "#y nos quedamos con el modelo que nos dé la mejor predicción (el mejor score).\n",
    "\n",
    "#Como vimos previamente, dependiendo del valor de K el algoritmo se compartaba de mejor o peor manera. \n",
    "#Vamos a realizar un barrido para los distintos valores de K (del 1 al 25).\n",
    "#Y así, para cada uno de estos valores de K vamos a entrenar al algoritmo y así vamos a obtener la exactitud/score del algoritmo:\n",
    "\n",
    "k_range = range(1,8) #Valores de K (1-25)\n",
    "scores = {}\n",
    "scores_list = []\n",
    "for k in k_range:\n",
    "        knn = KNeighborsClassifier(n_neighbors=k) #Llamamos al modelo de clasificación (KNN) y le pasamos cada valor de K. \n",
    "        knn.fit(X_train,y_train) #Se va a entrenar al algorimo para ese K con los x_train e Y_train que elegimos previamente.\n",
    "        y_pred=knn.predict(X_test) #Y ahora hacemos una predicción con los X_Test... lo mismo que haciamos con RL.\n",
    "        scores[k] = metrics.accuracy_score(y_test,y_pred) #Después calculamos y guardamos el score de esa predicción con ese valor de K.\n",
    "        scores_list.append(scores[k]) #Y esa predicción la metemos en una lista."
   ]
  },
  {
   "cell_type": "code",
   "execution_count": 177,
   "id": "taken-reporter",
   "metadata": {},
   "outputs": [
    {
     "data": {
      "text/plain": [
       "Text(0, 0.5, 'Testing Accuracy')"
      ]
     },
     "execution_count": 177,
     "metadata": {},
     "output_type": "execute_result"
    },
    {
     "data": {
      "image/png": "[encoded data removed]",
      "text/plain": [
       "<Figure size 432x288 with 1 Axes>"
      ]
     },
     "metadata": {
      "needs_background": "light"
     },
     "output_type": "display_data"
    }
   ],
   "source": [
    "#Ahora graficamos y vemos la relación entre los K y la exactitud/score del algoritmo:\n",
    "plt.plot(k_range,scores_list)\n",
    "plt.xlabel('Value of K for KNN')\n",
    "plt.ylabel('Testing Accuracy')"
   ]
  },
  {
   "cell_type": "code",
   "execution_count": 178,
   "id": "flush-serial",
   "metadata": {},
   "outputs": [],
   "source": [
    "#Elegimos un K=2 ya que vemos que allí la eficiencia es del 0,95% (Alta) y nuestro algoritmo predecirá bien."
   ]
  },
  {
   "cell_type": "markdown",
   "id": "champion-irish",
   "metadata": {},
   "source": [
    "### Entrenamos al algoritmo de KNN con un K óptimo (K=2)"
   ]
  },
  {
   "cell_type": "code",
   "execution_count": 179,
   "id": "divided-anniversary",
   "metadata": {},
   "outputs": [
    {
     "name": "stdout",
     "output_type": "stream",
     "text": [
      "Precisión de KNN con K optimo: 1.0\n"
     ]
    }
   ],
   "source": [
    "k_Optimo=1\n",
    "knn = KNeighborsClassifier(n_neighbors=k_Optimo) #Le asignamos este k=2.\n",
    "knn.fit(X_train,y_train) #Se va a entrenar al algorimo para ese K=2 con los x_train\n",
    "#e Y_train que elegimos previamente.\n",
    "y_pred=knn.predict(X_test) #Y ahora hacemos una predicción con los X_Test.\n",
    "score = metrics.accuracy_score(y_test,y_pred) #Cálculo del score para k=2\n",
    "\n",
    "print(\"Precisión de KNN con K optimo:\",score) #printeamos el score."
   ]
  },
  {
   "cell_type": "markdown",
   "id": "practical-colon",
   "metadata": {},
   "source": [
    "##### 3-¿Qué pasa al añadir un nuevo Candidato (Web_Dev_Karen_Higgins)? ¿Qué se tiene que volver a calcular?"
   ]
  },
  {
   "cell_type": "code",
   "execution_count": null,
   "id": "handled-aggregate",
   "metadata": {},
   "outputs": [],
   "source": []
  },
  {
   "cell_type": "markdown",
   "id": "coated-anxiety",
   "metadata": {},
   "source": [
    "##### 4-¿Qué pasa al añadir un nuevo Job Description (Data Scientist 2)? ¿Qué se tiene que volver a calcular?"
   ]
  },
  {
   "cell_type": "code",
   "execution_count": null,
   "id": "working-inspector",
   "metadata": {},
   "outputs": [],
   "source": []
  }
 ],
 "metadata": {
  "kernelspec": {
   "display_name": "Python 3",
   "language": "python",
   "name": "python3"
  },
  "language_info": {
   "codemirror_mode": {
    "name": "ipython",
    "version": 3
   },
   "file_extension": ".py",
   "mimetype": "text/x-python",
   "name": "python",
   "nbconvert_exporter": "python",
   "pygments_lexer": "ipython3",
   "version": "3.8.8"
  }
 },
 "nbformat": 4,
 "nbformat_minor": 5
}
